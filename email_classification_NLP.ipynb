{
  "nbformat": 4,
  "nbformat_minor": 0,
  "metadata": {
    "colab": {
      "provenance": [],
      "toc_visible": true,
      "authorship_tag": "ABX9TyPox5EHUo4qXPZUeq/EYjLQ",
      "include_colab_link": true
    },
    "kernelspec": {
      "name": "python3",
      "display_name": "Python 3"
    },
    "language_info": {
      "name": "python"
    }
  },
  "cells": [
    {
      "cell_type": "markdown",
      "metadata": {
        "id": "view-in-github",
        "colab_type": "text"
      },
      "source": [
        "<a href=\"https://colab.research.google.com/github/snehalad/email-classification-using-NLP/blob/main/email_classification_NLP.ipynb\" target=\"_parent\"><img src=\"https://colab.research.google.com/assets/colab-badge.svg\" alt=\"Open In Colab\"/></a>"
      ]
    },
    {
      "cell_type": "markdown",
      "source": [
        "# Email Detection Model -> Spam or Not 📧 \n",
        "\n",
        "Purpose of this notebook to classify email in two categories spam or not using NLP\n",
        "\n",
        "About Dataset:\n",
        "- We're using public dataset which includes two columns text (email) and spam (label)\n",
        "- if text label is 1 it's spam otherwise 0.\n",
        "- [Dataset Link](https://www.kaggle.com/bagavathypriya/email-spam-dataset)\n",
        "\n",
        "NLP Flow\n",
        "```\n",
        "text -> turn it into number -> build a model -> train a model -> use patterns for making prediction\n",
        "```\n",
        "\n"
      ],
      "metadata": {
        "id": "pxdvJNCtf4bZ"
      }
    },
    {
      "cell_type": "markdown",
      "source": [
        "## Get Dataset And Visualize (Extract)"
      ],
      "metadata": {
        "id": "0zcAzIZihKx2"
      }
    },
    {
      "cell_type": "code",
      "source": [
        "!wget https://raw.githubusercontent.com/snehalad/datasets/main/Email%20spam.csv"
      ],
      "metadata": {
        "colab": {
          "base_uri": "https://localhost:8080/"
        },
        "id": "osOiyaEzwTFE",
        "outputId": "5f772682-34a2-481a-9118-69f30c6f6773"
      },
      "execution_count": 1,
      "outputs": [
        {
          "output_type": "stream",
          "name": "stdout",
          "text": [
            "--2023-03-25 05:25:48--  https://raw.githubusercontent.com/snehalad/datasets/main/Email%20spam.csv\n",
            "Resolving raw.githubusercontent.com (raw.githubusercontent.com)... 185.199.110.133, 185.199.109.133, 185.199.111.133, ...\n",
            "Connecting to raw.githubusercontent.com (raw.githubusercontent.com)|185.199.110.133|:443... connected.\n",
            "HTTP request sent, awaiting response... 200 OK\n",
            "Length: 8960482 (8.5M) [text/plain]\n",
            "Saving to: ‘Email spam.csv.1’\n",
            "\n",
            "Email spam.csv.1    100%[===================>]   8.54M  --.-KB/s    in 0.1s    \n",
            "\n",
            "2023-03-25 05:25:49 (78.1 MB/s) - ‘Email spam.csv.1’ saved [8960482/8960482]\n",
            "\n"
          ]
        }
      ]
    },
    {
      "cell_type": "code",
      "source": [
        "import pandas as pd\n",
        "df = pd.read_csv(\"/content/Email spam.csv\")\n",
        "df.head()"
      ],
      "metadata": {
        "colab": {
          "base_uri": "https://localhost:8080/",
          "height": 206
        },
        "id": "yij4OZUgwWDE",
        "outputId": "fa4f1aca-0882-4864-d35c-b7f21dc437c1"
      },
      "execution_count": 2,
      "outputs": [
        {
          "output_type": "execute_result",
          "data": {
            "text/plain": [
              "                                                text  spam\n",
              "0  Subject: naturally irresistible your corporate...     1\n",
              "1  Subject: the stock trading gunslinger  fanny i...     1\n",
              "2  Subject: unbelievable new homes made easy  im ...     1\n",
              "3  Subject: 4 color printing special  request add...     1\n",
              "4  Subject: do not have money , get software cds ...     1"
            ],
            "text/html": [
              "\n",
              "  <div id=\"df-202c35cd-631f-4caa-991e-0510a9ac800c\">\n",
              "    <div class=\"colab-df-container\">\n",
              "      <div>\n",
              "<style scoped>\n",
              "    .dataframe tbody tr th:only-of-type {\n",
              "        vertical-align: middle;\n",
              "    }\n",
              "\n",
              "    .dataframe tbody tr th {\n",
              "        vertical-align: top;\n",
              "    }\n",
              "\n",
              "    .dataframe thead th {\n",
              "        text-align: right;\n",
              "    }\n",
              "</style>\n",
              "<table border=\"1\" class=\"dataframe\">\n",
              "  <thead>\n",
              "    <tr style=\"text-align: right;\">\n",
              "      <th></th>\n",
              "      <th>text</th>\n",
              "      <th>spam</th>\n",
              "    </tr>\n",
              "  </thead>\n",
              "  <tbody>\n",
              "    <tr>\n",
              "      <th>0</th>\n",
              "      <td>Subject: naturally irresistible your corporate...</td>\n",
              "      <td>1</td>\n",
              "    </tr>\n",
              "    <tr>\n",
              "      <th>1</th>\n",
              "      <td>Subject: the stock trading gunslinger  fanny i...</td>\n",
              "      <td>1</td>\n",
              "    </tr>\n",
              "    <tr>\n",
              "      <th>2</th>\n",
              "      <td>Subject: unbelievable new homes made easy  im ...</td>\n",
              "      <td>1</td>\n",
              "    </tr>\n",
              "    <tr>\n",
              "      <th>3</th>\n",
              "      <td>Subject: 4 color printing special  request add...</td>\n",
              "      <td>1</td>\n",
              "    </tr>\n",
              "    <tr>\n",
              "      <th>4</th>\n",
              "      <td>Subject: do not have money , get software cds ...</td>\n",
              "      <td>1</td>\n",
              "    </tr>\n",
              "  </tbody>\n",
              "</table>\n",
              "</div>\n",
              "      <button class=\"colab-df-convert\" onclick=\"convertToInteractive('df-202c35cd-631f-4caa-991e-0510a9ac800c')\"\n",
              "              title=\"Convert this dataframe to an interactive table.\"\n",
              "              style=\"display:none;\">\n",
              "        \n",
              "  <svg xmlns=\"http://www.w3.org/2000/svg\" height=\"24px\"viewBox=\"0 0 24 24\"\n",
              "       width=\"24px\">\n",
              "    <path d=\"M0 0h24v24H0V0z\" fill=\"none\"/>\n",
              "    <path d=\"M18.56 5.44l.94 2.06.94-2.06 2.06-.94-2.06-.94-.94-2.06-.94 2.06-2.06.94zm-11 1L8.5 8.5l.94-2.06 2.06-.94-2.06-.94L8.5 2.5l-.94 2.06-2.06.94zm10 10l.94 2.06.94-2.06 2.06-.94-2.06-.94-.94-2.06-.94 2.06-2.06.94z\"/><path d=\"M17.41 7.96l-1.37-1.37c-.4-.4-.92-.59-1.43-.59-.52 0-1.04.2-1.43.59L10.3 9.45l-7.72 7.72c-.78.78-.78 2.05 0 2.83L4 21.41c.39.39.9.59 1.41.59.51 0 1.02-.2 1.41-.59l7.78-7.78 2.81-2.81c.8-.78.8-2.07 0-2.86zM5.41 20L4 18.59l7.72-7.72 1.47 1.35L5.41 20z\"/>\n",
              "  </svg>\n",
              "      </button>\n",
              "      \n",
              "  <style>\n",
              "    .colab-df-container {\n",
              "      display:flex;\n",
              "      flex-wrap:wrap;\n",
              "      gap: 12px;\n",
              "    }\n",
              "\n",
              "    .colab-df-convert {\n",
              "      background-color: #E8F0FE;\n",
              "      border: none;\n",
              "      border-radius: 50%;\n",
              "      cursor: pointer;\n",
              "      display: none;\n",
              "      fill: #1967D2;\n",
              "      height: 32px;\n",
              "      padding: 0 0 0 0;\n",
              "      width: 32px;\n",
              "    }\n",
              "\n",
              "    .colab-df-convert:hover {\n",
              "      background-color: #E2EBFA;\n",
              "      box-shadow: 0px 1px 2px rgba(60, 64, 67, 0.3), 0px 1px 3px 1px rgba(60, 64, 67, 0.15);\n",
              "      fill: #174EA6;\n",
              "    }\n",
              "\n",
              "    [theme=dark] .colab-df-convert {\n",
              "      background-color: #3B4455;\n",
              "      fill: #D2E3FC;\n",
              "    }\n",
              "\n",
              "    [theme=dark] .colab-df-convert:hover {\n",
              "      background-color: #434B5C;\n",
              "      box-shadow: 0px 1px 3px 1px rgba(0, 0, 0, 0.15);\n",
              "      filter: drop-shadow(0px 1px 2px rgba(0, 0, 0, 0.3));\n",
              "      fill: #FFFFFF;\n",
              "    }\n",
              "  </style>\n",
              "\n",
              "      <script>\n",
              "        const buttonEl =\n",
              "          document.querySelector('#df-202c35cd-631f-4caa-991e-0510a9ac800c button.colab-df-convert');\n",
              "        buttonEl.style.display =\n",
              "          google.colab.kernel.accessAllowed ? 'block' : 'none';\n",
              "\n",
              "        async function convertToInteractive(key) {\n",
              "          const element = document.querySelector('#df-202c35cd-631f-4caa-991e-0510a9ac800c');\n",
              "          const dataTable =\n",
              "            await google.colab.kernel.invokeFunction('convertToInteractive',\n",
              "                                                     [key], {});\n",
              "          if (!dataTable) return;\n",
              "\n",
              "          const docLinkHtml = 'Like what you see? Visit the ' +\n",
              "            '<a target=\"_blank\" href=https://colab.research.google.com/notebooks/data_table.ipynb>data table notebook</a>'\n",
              "            + ' to learn more about interactive tables.';\n",
              "          element.innerHTML = '';\n",
              "          dataTable['output_type'] = 'display_data';\n",
              "          await google.colab.output.renderOutput(dataTable, element);\n",
              "          const docLink = document.createElement('div');\n",
              "          docLink.innerHTML = docLinkHtml;\n",
              "          element.appendChild(docLink);\n",
              "        }\n",
              "      </script>\n",
              "    </div>\n",
              "  </div>\n",
              "  "
            ]
          },
          "metadata": {},
          "execution_count": 2
        }
      ]
    },
    {
      "cell_type": "code",
      "source": [
        "len(df)"
      ],
      "metadata": {
        "colab": {
          "base_uri": "https://localhost:8080/"
        },
        "id": "lVrsHxdxwocS",
        "outputId": "1acac9ad-5f81-4c34-ed35-510877de48db"
      },
      "execution_count": 3,
      "outputs": [
        {
          "output_type": "execute_result",
          "data": {
            "text/plain": [
              "5728"
            ]
          },
          "metadata": {},
          "execution_count": 3
        }
      ]
    },
    {
      "cell_type": "code",
      "source": [
        "df.spam.value_counts().head(32)"
      ],
      "metadata": {
        "colab": {
          "base_uri": "https://localhost:8080/"
        },
        "id": "gVVLT7CvwviB",
        "outputId": "3ba8ced8-f33d-497b-f6ac-a547edf1eaa4"
      },
      "execution_count": 4,
      "outputs": [
        {
          "output_type": "execute_result",
          "data": {
            "text/plain": [
              "0    4360\n",
              "1    1368\n",
              "Name: spam, dtype: int64"
            ]
          },
          "metadata": {},
          "execution_count": 4
        }
      ]
    },
    {
      "cell_type": "code",
      "source": [
        "# plot value 0 & 1 value count\n",
        "df['spam'].value_counts().plot(kind='bar', figsize=(10, 7))"
      ],
      "metadata": {
        "colab": {
          "base_uri": "https://localhost:8080/",
          "height": 442
        },
        "id": "hdx19jwpi4xJ",
        "outputId": "0189e685-a877-41ea-a166-690be5b75d12"
      },
      "execution_count": 5,
      "outputs": [
        {
          "output_type": "execute_result",
          "data": {
            "text/plain": [
              "<Axes: >"
            ]
          },
          "metadata": {},
          "execution_count": 5
        },
        {
          "output_type": "display_data",
          "data": {
            "text/plain": [
              "<Figure size 720x504 with 1 Axes>"
            ],
            "image/png": "[encoded data removed]"
          },
          "metadata": {
            "needs_background": "light"
          }
        }
      ]
    },
    {
      "cell_type": "code",
      "source": [
        "df.info()"
      ],
      "metadata": {
        "id": "rfJtuqHzxCE-",
        "colab": {
          "base_uri": "https://localhost:8080/"
        },
        "outputId": "f995ff58-c6e7-468e-bde1-5df14993e948"
      },
      "execution_count": 6,
      "outputs": [
        {
          "output_type": "stream",
          "name": "stdout",
          "text": [
            "<class 'pandas.core.frame.DataFrame'>\n",
            "RangeIndex: 5728 entries, 0 to 5727\n",
            "Data columns (total 2 columns):\n",
            " #   Column  Non-Null Count  Dtype \n",
            "---  ------  --------------  ----- \n",
            " 0   text    5728 non-null   object\n",
            " 1   spam    5728 non-null   int64 \n",
            "dtypes: int64(1), object(1)\n",
            "memory usage: 89.6+ KB\n"
          ]
        }
      ]
    },
    {
      "cell_type": "markdown",
      "source": [
        "## Preprocess Data (Transform)"
      ],
      "metadata": {
        "id": "K1L0xoKthTNs"
      }
    },
    {
      "cell_type": "code",
      "source": [
        "# check out missing values\n",
        "df.isnull().sum()"
      ],
      "metadata": {
        "colab": {
          "base_uri": "https://localhost:8080/"
        },
        "id": "eVy77vSekQ__",
        "outputId": "257c578b-d80c-446f-9d0d-81dabc96223f"
      },
      "execution_count": 7,
      "outputs": [
        {
          "output_type": "execute_result",
          "data": {
            "text/plain": [
              "text    0\n",
              "spam    0\n",
              "dtype: int64"
            ]
          },
          "metadata": {},
          "execution_count": 7
        }
      ]
    },
    {
      "cell_type": "code",
      "source": [
        "# duplicate data\n",
        "df.duplicated().sum()"
      ],
      "metadata": {
        "colab": {
          "base_uri": "https://localhost:8080/"
        },
        "id": "qiUtUb_Xkdmu",
        "outputId": "02909716-21e7-41b3-dc97-af60ff95c12a"
      },
      "execution_count": 8,
      "outputs": [
        {
          "output_type": "execute_result",
          "data": {
            "text/plain": [
              "33"
            ]
          },
          "metadata": {},
          "execution_count": 8
        }
      ]
    },
    {
      "cell_type": "code",
      "source": [
        "# drop duplicate values\n",
        "df.drop_duplicates(inplace=True)"
      ],
      "metadata": {
        "id": "_R_U6N0Vkt1I"
      },
      "execution_count": 9,
      "outputs": []
    },
    {
      "cell_type": "code",
      "source": [
        "len(df) # previous len od dataset 5728"
      ],
      "metadata": {
        "colab": {
          "base_uri": "https://localhost:8080/"
        },
        "id": "BiCp1pXelUoX",
        "outputId": "df335b12-d6f8-4529-bcb4-43fed15c0088"
      },
      "execution_count": 10,
      "outputs": [
        {
          "output_type": "execute_result",
          "data": {
            "text/plain": [
              "5695"
            ]
          },
          "metadata": {},
          "execution_count": 10
        }
      ]
    },
    {
      "cell_type": "code",
      "source": [
        "df.text[:5]"
      ],
      "metadata": {
        "colab": {
          "base_uri": "https://localhost:8080/"
        },
        "id": "xuKNQIDFlb64",
        "outputId": "9f45a3b2-7bb4-42b1-8d45-44584d196f43"
      },
      "execution_count": 11,
      "outputs": [
        {
          "output_type": "execute_result",
          "data": {
            "text/plain": [
              "0    Subject: naturally irresistible your corporate...\n",
              "1    Subject: the stock trading gunslinger  fanny i...\n",
              "2    Subject: unbelievable new homes made easy  im ...\n",
              "3    Subject: 4 color printing special  request add...\n",
              "4    Subject: do not have money , get software cds ...\n",
              "Name: text, dtype: object"
            ]
          },
          "metadata": {},
          "execution_count": 11
        }
      ]
    },
    {
      "cell_type": "markdown",
      "source": [
        "Now we will remove \"Subject:\" from text"
      ],
      "metadata": {
        "id": "798H9XC8l1mS"
      }
    },
    {
      "cell_type": "code",
      "source": [
        "# reset index\n",
        "df.reset_index(inplace=True)"
      ],
      "metadata": {
        "id": "ntYgx2iaH-2N"
      },
      "execution_count": 12,
      "outputs": []
    },
    {
      "cell_type": "code",
      "source": [
        "# what we want\n",
        "df.loc[0, 'text'].split(' ', 1)[1]"
      ],
      "metadata": {
        "colab": {
          "base_uri": "https://localhost:8080/",
          "height": 140
        },
        "id": "UQQ-uLFQljXf",
        "outputId": "ca5b12c3-7d32-44f7-f537-2ef393019498"
      },
      "execution_count": 13,
      "outputs": [
        {
          "output_type": "execute_result",
          "data": {
            "text/plain": [
              "\"naturally irresistible your corporate identity  lt is really hard to recollect a company : the  market is full of suqgestions and the information isoverwhelminq ; but a good  catchy logo , stylish statlonery and outstanding website  will make the task much easier .  we do not promise that havinq ordered a iogo your  company will automaticaily become a world ieader : it isguite ciear that  without good products , effective business organization and practicable aim it  will be hotat nowadays market ; but we do promise that your marketing efforts  will become much more effective . here is the list of clear  benefits : creativeness : hand - made , original logos , specially done  to reflect your distinctive company image . convenience : logo and stationery  are provided in all formats ; easy - to - use content management system letsyou  change your website content and even its structure . promptness : you  will see logo drafts within three business days . affordability : your  marketing break - through shouldn ' t make gaps in your budget . 100 % satisfaction  guaranteed : we provide unlimited amount of changes with no extra fees for you to  be surethat you will love the result of this collaboration . have a look at our  portfolio _ _ _ _ _ _ _ _ _ _ _ _ _ _ _ _ _ _ _ _ _ _ _ _ _ _ _ _ _ _ _ _ _ _ _ _ _ _ _ _ _ _ _ _ _ _ _ _ _ _ _ _ not interested . . . _ _ _ _ _ _ _ _ _ _ _ _ _ _ _ _ _ _ _ _ _ _ _ _ _ _ _ _ _ _ _ _ _ _ _ _ _ _ _ _ _ _ _ _ _ _ _ _ _ _ _ _\""
            ],
            "application/vnd.google.colaboratory.intrinsic+json": {
              "type": "string"
            }
          },
          "metadata": {},
          "execution_count": 13
        }
      ]
    },
    {
      "cell_type": "code",
      "source": [
        "df.shape[0]"
      ],
      "metadata": {
        "colab": {
          "base_uri": "https://localhost:8080/"
        },
        "id": "HCXxQNmTIsY-",
        "outputId": "da6f7e00-f1b2-4c65-b546-01ab65960456"
      },
      "execution_count": 14,
      "outputs": [
        {
          "output_type": "execute_result",
          "data": {
            "text/plain": [
              "5695"
            ]
          },
          "metadata": {},
          "execution_count": 14
        }
      ]
    },
    {
      "cell_type": "code",
      "source": [
        "for i in range(df.shape[0]):\n",
        " df.loc[i, 'text'] = df.loc[i, 'text'].split(' ', 1)[1]"
      ],
      "metadata": {
        "id": "jUoCLmbUqVLr"
      },
      "execution_count": 15,
      "outputs": []
    },
    {
      "cell_type": "code",
      "source": [
        "# !jupyter notebook --NotebookApp.iopub_data_rate_limit=1.0e10 "
      ],
      "metadata": {
        "id": "Ce3_12qAKmNz"
      },
      "execution_count": 16,
      "outputs": []
    },
    {
      "cell_type": "code",
      "source": [
        "df.head()"
      ],
      "metadata": {
        "colab": {
          "base_uri": "https://localhost:8080/",
          "height": 206
        },
        "id": "2yfxjMdEqkld",
        "outputId": "0397bc10-895c-41e1-c5d9-711f7fb5dbc4"
      },
      "execution_count": 17,
      "outputs": [
        {
          "output_type": "execute_result",
          "data": {
            "text/plain": [
              "   index                                               text  spam\n",
              "0      0  naturally irresistible your corporate identity...     1\n",
              "1      1  the stock trading gunslinger  fanny is merrill...     1\n",
              "2      2  unbelievable new homes made easy  im wanting t...     1\n",
              "3      3  4 color printing special  request additional i...     1\n",
              "4      4  do not have money , get software cds from here...     1"
            ],
            "text/html": [
              "\n",
              "  <div id=\"df-f4c348c9-59d2-4d4c-ba5b-3b70ced1d7e5\">\n",
              "    <div class=\"colab-df-container\">\n",
              "      <div>\n",
              "<style scoped>\n",
              "    .dataframe tbody tr th:only-of-type {\n",
              "        vertical-align: middle;\n",
              "    }\n",
              "\n",
              "    .dataframe tbody tr th {\n",
              "        vertical-align: top;\n",
              "    }\n",
              "\n",
              "    .dataframe thead th {\n",
              "        text-align: right;\n",
              "    }\n",
              "</style>\n",
              "<table border=\"1\" class=\"dataframe\">\n",
              "  <thead>\n",
              "    <tr style=\"text-align: right;\">\n",
              "      <th></th>\n",
              "      <th>index</th>\n",
              "      <th>text</th>\n",
              "      <th>spam</th>\n",
              "    </tr>\n",
              "  </thead>\n",
              "  <tbody>\n",
              "    <tr>\n",
              "      <th>0</th>\n",
              "      <td>0</td>\n",
              "      <td>naturally irresistible your corporate identity...</td>\n",
              "      <td>1</td>\n",
              "    </tr>\n",
              "    <tr>\n",
              "      <th>1</th>\n",
              "      <td>1</td>\n",
              "      <td>the stock trading gunslinger  fanny is merrill...</td>\n",
              "      <td>1</td>\n",
              "    </tr>\n",
              "    <tr>\n",
              "      <th>2</th>\n",
              "      <td>2</td>\n",
              "      <td>unbelievable new homes made easy  im wanting t...</td>\n",
              "      <td>1</td>\n",
              "    </tr>\n",
              "    <tr>\n",
              "      <th>3</th>\n",
              "      <td>3</td>\n",
              "      <td>4 color printing special  request additional i...</td>\n",
              "      <td>1</td>\n",
              "    </tr>\n",
              "    <tr>\n",
              "      <th>4</th>\n",
              "      <td>4</td>\n",
              "      <td>do not have money , get software cds from here...</td>\n",
              "      <td>1</td>\n",
              "    </tr>\n",
              "  </tbody>\n",
              "</table>\n",
              "</div>\n",
              "      <button class=\"colab-df-convert\" onclick=\"convertToInteractive('df-f4c348c9-59d2-4d4c-ba5b-3b70ced1d7e5')\"\n",
              "              title=\"Convert this dataframe to an interactive table.\"\n",
              "              style=\"display:none;\">\n",
              "        \n",
              "  <svg xmlns=\"http://www.w3.org/2000/svg\" height=\"24px\"viewBox=\"0 0 24 24\"\n",
              "       width=\"24px\">\n",
              "    <path d=\"M0 0h24v24H0V0z\" fill=\"none\"/>\n",
              "    <path d=\"M18.56 5.44l.94 2.06.94-2.06 2.06-.94-2.06-.94-.94-2.06-.94 2.06-2.06.94zm-11 1L8.5 8.5l.94-2.06 2.06-.94-2.06-.94L8.5 2.5l-.94 2.06-2.06.94zm10 10l.94 2.06.94-2.06 2.06-.94-2.06-.94-.94-2.06-.94 2.06-2.06.94z\"/><path d=\"M17.41 7.96l-1.37-1.37c-.4-.4-.92-.59-1.43-.59-.52 0-1.04.2-1.43.59L10.3 9.45l-7.72 7.72c-.78.78-.78 2.05 0 2.83L4 21.41c.39.39.9.59 1.41.59.51 0 1.02-.2 1.41-.59l7.78-7.78 2.81-2.81c.8-.78.8-2.07 0-2.86zM5.41 20L4 18.59l7.72-7.72 1.47 1.35L5.41 20z\"/>\n",
              "  </svg>\n",
              "      </button>\n",
              "      \n",
              "  <style>\n",
              "    .colab-df-container {\n",
              "      display:flex;\n",
              "      flex-wrap:wrap;\n",
              "      gap: 12px;\n",
              "    }\n",
              "\n",
              "    .colab-df-convert {\n",
              "      background-color: #E8F0FE;\n",
              "      border: none;\n",
              "      border-radius: 50%;\n",
              "      cursor: pointer;\n",
              "      display: none;\n",
              "      fill: #1967D2;\n",
              "      height: 32px;\n",
              "      padding: 0 0 0 0;\n",
              "      width: 32px;\n",
              "    }\n",
              "\n",
              "    .colab-df-convert:hover {\n",
              "      background-color: #E2EBFA;\n",
              "      box-shadow: 0px 1px 2px rgba(60, 64, 67, 0.3), 0px 1px 3px 1px rgba(60, 64, 67, 0.15);\n",
              "      fill: #174EA6;\n",
              "    }\n",
              "\n",
              "    [theme=dark] .colab-df-convert {\n",
              "      background-color: #3B4455;\n",
              "      fill: #D2E3FC;\n",
              "    }\n",
              "\n",
              "    [theme=dark] .colab-df-convert:hover {\n",
              "      background-color: #434B5C;\n",
              "      box-shadow: 0px 1px 3px 1px rgba(0, 0, 0, 0.15);\n",
              "      filter: drop-shadow(0px 1px 2px rgba(0, 0, 0, 0.3));\n",
              "      fill: #FFFFFF;\n",
              "    }\n",
              "  </style>\n",
              "\n",
              "      <script>\n",
              "        const buttonEl =\n",
              "          document.querySelector('#df-f4c348c9-59d2-4d4c-ba5b-3b70ced1d7e5 button.colab-df-convert');\n",
              "        buttonEl.style.display =\n",
              "          google.colab.kernel.accessAllowed ? 'block' : 'none';\n",
              "\n",
              "        async function convertToInteractive(key) {\n",
              "          const element = document.querySelector('#df-f4c348c9-59d2-4d4c-ba5b-3b70ced1d7e5');\n",
              "          const dataTable =\n",
              "            await google.colab.kernel.invokeFunction('convertToInteractive',\n",
              "                                                     [key], {});\n",
              "          if (!dataTable) return;\n",
              "\n",
              "          const docLinkHtml = 'Like what you see? Visit the ' +\n",
              "            '<a target=\"_blank\" href=https://colab.research.google.com/notebooks/data_table.ipynb>data table notebook</a>'\n",
              "            + ' to learn more about interactive tables.';\n",
              "          element.innerHTML = '';\n",
              "          dataTable['output_type'] = 'display_data';\n",
              "          await google.colab.output.renderOutput(dataTable, element);\n",
              "          const docLink = document.createElement('div');\n",
              "          docLink.innerHTML = docLinkHtml;\n",
              "          element.appendChild(docLink);\n",
              "        }\n",
              "      </script>\n",
              "    </div>\n",
              "  </div>\n",
              "  "
            ]
          },
          "metadata": {},
          "execution_count": 17
        }
      ]
    },
    {
      "cell_type": "markdown",
      "source": [
        "Now we have clean data!!!"
      ],
      "metadata": {
        "id": "cBW8lRS8rk97"
      }
    },
    {
      "cell_type": "markdown",
      "source": [
        "## Split data into train and test"
      ],
      "metadata": {
        "id": "HVmkegkytJ8T"
      }
    },
    {
      "cell_type": "code",
      "source": [
        "from sklearn.model_selection import train_test_split"
      ],
      "metadata": {
        "id": "1PEGY1eMtP4k"
      },
      "execution_count": 18,
      "outputs": []
    },
    {
      "cell_type": "code",
      "source": [
        "X_train, X_test, y_train, y_test = train_test_split(df['text'].to_numpy(),\n",
        "                                                    df['spam'].to_numpy(),\n",
        "                                                    test_size=0.1,\n",
        "                                                    random_state=42)"
      ],
      "metadata": {
        "id": "7mBf6XWct7PI"
      },
      "execution_count": 19,
      "outputs": []
    },
    {
      "cell_type": "code",
      "source": [
        "# check shape\n",
        "X_train.shape, X_test.shape, y_train.shape, y_test.shape "
      ],
      "metadata": {
        "colab": {
          "base_uri": "https://localhost:8080/"
        },
        "id": "9VhJVJsCvSTQ",
        "outputId": "f4ad73fc-2700-415e-e645-87a5e40caf15"
      },
      "execution_count": 20,
      "outputs": [
        {
          "output_type": "execute_result",
          "data": {
            "text/plain": [
              "((5125,), (570,), (5125,), (570,))"
            ]
          },
          "metadata": {},
          "execution_count": 20
        }
      ]
    },
    {
      "cell_type": "code",
      "source": [
        "X_train[:2], y_train[:2]"
      ],
      "metadata": {
        "colab": {
          "base_uri": "https://localhost:8080/"
        },
        "id": "t56z0lPYvaFw",
        "outputId": "69f31729-c4af-442a-8bc8-3d14be5bc8be"
      },
      "execution_count": 21,
      "outputs": [
        {
          "output_type": "execute_result",
          "data": {
            "text/plain": [
              "(array(['re : eci id for stinson  steve -  could you please escalate per our conversation  thank you  paula  - - - - - - - - - - - - - - - - - - - - - - forwarded by paula corey / enron communications on  01 / 21 / 2000 08 : 35 am - - - - - - - - - - - - - - - - - - - - - - - - - - -  stinson gibner @ ect  01 / 21 / 2000 08 : 09 am  to : timothy morita - mcvey / enron communications @ enron communications @ enron  cc : paula corey / enron communications @ enron communications , jean mrha / enron  communications @ enron communications  subject : re : eci id for stinson  timothy :  i still have a problem . when i am on the eci network i cannot receive  email , and , even worse , i cannot even send email . this is not an  acceptable situation . i need to have a fully functional email account on  the eci side as well as the ena side . don \\' t tell me that its against  policy because i know that ravi thuraisingham has already be set up this way  for months . i don \\' t care if mail from one network is forwarded to the  other as i will have access in houston to both , but i can already see that i  need to have functional accounts on both sides , or it will be a continual  thorn in my side when travelling to portland , etc . . .  again thanks for your help on getting this set up correctly ,  - - stinson gibner  x 34748  from : timothy morita - mcvey @ enron communications on 01 / 19 / 2000 10 : 20 am pst  to : stinson gibner / hou / ect @ ect @ enron  cc :  subject : re : eci id  thanks stinson ,  that should give me what i need .  i understand that you will have two notes id \\' s with the eci mail forwarded to  your \" stinson gibner / hou / ect @ ect @ enron \" address .  i should be able to complete this today ( later today )  thanks ,  timothy morita - mcvey  lotus notes administrator  enron communications , inc .  503 . 886 . 0390  timothy _ morita - mcvey @ enron . net  stinson gibner @ ect  01 / 19 / 00 09 : 07 am  to : timothy morita - mcvey / enron communications @ enron communications  cc :  subject : eci id  i must have written down your phone number incorrectly , it did not work .  regarding my user id on the eci network , i would be set up in the same way  as ravi thuraisingham with an id on both the ena and the eci networks . i am  in the corp . research group but am spending about 80 % of my time in support  of eci in the trading and origination areas .  feel free to contact me if you need any further info .  - - stinson  houston x 34748',\n",
              "        \"pleasure your women - size does matter !  expand your penis 20 % larger in weeks  http : / / www . okmpoi . com / ss /  the greeks invented logic but were not fooled by it .  to be feared is much safer then to be loved .  it is a youthful failing to be unable to control one ' s impulses .  the strictest law sometimes becomes the severest injustice .  tears at times have all the weight of speech .\"],\n",
              "       dtype=object), array([0, 1]))"
            ]
          },
          "metadata": {},
          "execution_count": 21
        }
      ]
    },
    {
      "cell_type": "markdown",
      "source": [
        "## Converting text into Number"
      ],
      "metadata": {
        "id": "dAdzGlwkwFW5"
      }
    },
    {
      "cell_type": "markdown",
      "source": [
        "### Tokenization \n",
        "`layers.TextVectorization`\n",
        "\n",
        "focus on\n",
        "- max_tokens (max length of vocab)\n",
        "- output_mode (dtype of output)\n",
        "- output_sequence_length (how many words will see by model?)"
      ],
      "metadata": {
        "id": "5O23ZnmlK9Q5"
      }
    },
    {
      "cell_type": "code",
      "source": [
        "X_train[:2]"
      ],
      "metadata": {
        "colab": {
          "base_uri": "https://localhost:8080/"
        },
        "id": "ysY0TIXbLRWD",
        "outputId": "64edd0f5-312c-40fe-dbd6-43ba3cd8dc78"
      },
      "execution_count": 22,
      "outputs": [
        {
          "output_type": "execute_result",
          "data": {
            "text/plain": [
              "array(['re : eci id for stinson  steve -  could you please escalate per our conversation  thank you  paula  - - - - - - - - - - - - - - - - - - - - - - forwarded by paula corey / enron communications on  01 / 21 / 2000 08 : 35 am - - - - - - - - - - - - - - - - - - - - - - - - - - -  stinson gibner @ ect  01 / 21 / 2000 08 : 09 am  to : timothy morita - mcvey / enron communications @ enron communications @ enron  cc : paula corey / enron communications @ enron communications , jean mrha / enron  communications @ enron communications  subject : re : eci id for stinson  timothy :  i still have a problem . when i am on the eci network i cannot receive  email , and , even worse , i cannot even send email . this is not an  acceptable situation . i need to have a fully functional email account on  the eci side as well as the ena side . don \\' t tell me that its against  policy because i know that ravi thuraisingham has already be set up this way  for months . i don \\' t care if mail from one network is forwarded to the  other as i will have access in houston to both , but i can already see that i  need to have functional accounts on both sides , or it will be a continual  thorn in my side when travelling to portland , etc . . .  again thanks for your help on getting this set up correctly ,  - - stinson gibner  x 34748  from : timothy morita - mcvey @ enron communications on 01 / 19 / 2000 10 : 20 am pst  to : stinson gibner / hou / ect @ ect @ enron  cc :  subject : re : eci id  thanks stinson ,  that should give me what i need .  i understand that you will have two notes id \\' s with the eci mail forwarded to  your \" stinson gibner / hou / ect @ ect @ enron \" address .  i should be able to complete this today ( later today )  thanks ,  timothy morita - mcvey  lotus notes administrator  enron communications , inc .  503 . 886 . 0390  timothy _ morita - mcvey @ enron . net  stinson gibner @ ect  01 / 19 / 00 09 : 07 am  to : timothy morita - mcvey / enron communications @ enron communications  cc :  subject : eci id  i must have written down your phone number incorrectly , it did not work .  regarding my user id on the eci network , i would be set up in the same way  as ravi thuraisingham with an id on both the ena and the eci networks . i am  in the corp . research group but am spending about 80 % of my time in support  of eci in the trading and origination areas .  feel free to contact me if you need any further info .  - - stinson  houston x 34748',\n",
              "       \"pleasure your women - size does matter !  expand your penis 20 % larger in weeks  http : / / www . okmpoi . com / ss /  the greeks invented logic but were not fooled by it .  to be feared is much safer then to be loved .  it is a youthful failing to be unable to control one ' s impulses .  the strictest law sometimes becomes the severest injustice .  tears at times have all the weight of speech .\"],\n",
              "      dtype=object)"
            ]
          },
          "metadata": {},
          "execution_count": 22
        }
      ]
    },
    {
      "cell_type": "code",
      "source": [
        "# to decide max_tokens\n",
        "len(X_train[0].split(\" \"))"
      ],
      "metadata": {
        "colab": {
          "base_uri": "https://localhost:8080/"
        },
        "id": "gb7swFE_LlGs",
        "outputId": "1aecb05e-274e-449a-d6f5-c3f245deff7c"
      },
      "execution_count": 23,
      "outputs": [
        {
          "output_type": "execute_result",
          "data": {
            "text/plain": [
              "600"
            ]
          },
          "metadata": {},
          "execution_count": 23
        }
      ]
    },
    {
      "cell_type": "code",
      "source": [
        "# find average no of tokens\n",
        "round(sum([len(i.split()) for i in X_train])/ len(X_train))"
      ],
      "metadata": {
        "colab": {
          "base_uri": "https://localhost:8080/"
        },
        "id": "1XbGD_9FMqaJ",
        "outputId": "128eb0e3-24f8-4892-fd03-6b0be0b5b33c"
      },
      "execution_count": 24,
      "outputs": [
        {
          "output_type": "execute_result",
          "data": {
            "text/plain": [
              "327"
            ]
          },
          "metadata": {},
          "execution_count": 24
        }
      ]
    },
    {
      "cell_type": "code",
      "source": [
        "import tensorflow as tf\n",
        "from tensorflow.keras.layers import TextVectorization"
      ],
      "metadata": {
        "id": "3BkM1mPTO0-6"
      },
      "execution_count": 25,
      "outputs": []
    },
    {
      "cell_type": "code",
      "source": [
        "# setup vectorization variable\n",
        "max_vocab_lenght = 10000\n",
        "max_length = 327\n",
        "\n",
        "text_vectorizer = TextVectorization(max_tokens=max_vocab_lenght,\n",
        "                                    output_mode='int',\n",
        "                                    output_sequence_length=max_length)"
      ],
      "metadata": {
        "id": "IJpqo-mEOE99"
      },
      "execution_count": 26,
      "outputs": []
    },
    {
      "cell_type": "code",
      "source": [
        "# fit text vectorizer\n",
        "text_vectorizer.adapt(X_train)"
      ],
      "metadata": {
        "id": "bwjX7bVAP8Ah"
      },
      "execution_count": 27,
      "outputs": []
    },
    {
      "cell_type": "code",
      "source": [
        "# let's test our text vectorizer\n",
        "text_vectorizer([X_train[0]])"
      ],
      "metadata": {
        "colab": {
          "base_uri": "https://localhost:8080/"
        },
        "id": "GiKJ0jCrQV-n",
        "outputId": "c98d980d-8e7e-40e9-841b-8f95f393fea7"
      },
      "execution_count": 28,
      "outputs": [
        {
          "output_type": "execute_result",
          "data": {
            "text/plain": [
              "<tf.Tensor: shape=(1, 327), dtype=int64, numpy=\n",
              "array([[  45, 6367,  476,   10,  170,  385,  129,    7,   37,    1,  310,\n",
              "          43, 1473,  159,    7, 3415,  120,   31, 3415, 4696,   11,  152,\n",
              "          13,  101,  320,   35,  148,  768,   36,  170,  291,   14,  101,\n",
              "         320,   35,  148,  162,   36,    3, 3753,    1,    1,   11,  152,\n",
              "          11,  152,   11,   46, 3415, 4696,   11,  152,   11,  152, 2163,\n",
              "        3951,   11,  152,   11,  152,   40,   45, 6367,  476,   10,  170,\n",
              "        3753,    9,  359,   23,    6,  466,  156,    9,   36,   13,    2,\n",
              "        6367,  549,    9,  901,  322,   81,    4,  441, 8677,    9,  901,\n",
              "         441,  161,   81,   15,   12,   39,   49, 2463, 1327,    9,   92,\n",
              "           3,   23,    6, 1721, 5016,   81,  382,   13,    2, 6367, 1058,\n",
              "          29,  167,   29,    2,  577, 1058,  275,  102,  914,   42,   16,\n",
              "         173, 1266,  805,  338,    9,   62,   16,  673, 1161,   58,  440,\n",
              "          17,  333,   84,   15,  249,   10,  497,    9,  275,  102, 1294,\n",
              "          34,   89,   25,   77,  549,   12,  120,    3,    2,  121,   29,\n",
              "           9,   22,   23,  256,    8,  115,    3,  285,   76,    9,   44,\n",
              "         440,  127,   16,    9,   92,    3,   23, 5016, 1582,   13,  285,\n",
              "        7155,   33,   26,   22,   17,    6,    1,    1,    8,   48, 1058,\n",
              "         156, 4462,    3, 2792,  430,  272,   61,   10,   18,  154,   13,\n",
              "         552,   15,  333,   84, 2640,  170,  291,  220, 5076,   25, 3753,\n",
              "           1,    1,   11,  152,   13,  101,  211,   35,   59,  174,   36,\n",
              "        9635,    3,  170,  291,   30,   14,   14,   11,   46,   40,   45,\n",
              "        6367,  476,   61,  170,   16,  126,  232,   42,   91,    9,   92,\n",
              "           9,  618,   16,    7,   22,   23,  205,  984,  476,   27,   19,\n",
              "           2, 6367,   89,  120,    3,   18,  170,  291,   30,   14,   14,\n",
              "          11,  224,    9,  126,   17,  321,    3,  590,   15,  237,  695,\n",
              "         237,   61, 3753,    1,    1, 3550,  984, 3591,   11,  152,  412,\n",
              "        3519, 8617,    1, 3753,    1,    1,   11,  344,  170,  291,   14,\n",
              "         101,  211,   78,  162,  214,   36,    3, 3753,    1,    1,   11,\n",
              "         152,   11,  152,   46,   40, 6367,  476,    9,  502,   23, 1677,\n",
              "         595,   18,  192,  210,    1,   26,  427,   39]])>"
            ]
          },
          "metadata": {},
          "execution_count": 28
        }
      ]
    },
    {
      "cell_type": "code",
      "source": [
        "# get unique words from vocabulary\n",
        "words_in_vocab = text_vectorizer.get_vocabulary()\n",
        "print(\"Length of vocabulary:\", len(words_in_vocab))\n",
        "print(\"Most common words in vocab: \", words_in_vocab[:5])\n",
        "print(\"Least Common words in vocab: \", words_in_vocab[-5:])"
      ],
      "metadata": {
        "colab": {
          "base_uri": "https://localhost:8080/"
        },
        "id": "xy8Qtu-CQhml",
        "outputId": "48b17d28-b857-48bd-939d-02d7381a9b30"
      },
      "execution_count": 29,
      "outputs": [
        {
          "output_type": "stream",
          "name": "stdout",
          "text": [
            "Length of vocabulary: 10000\n",
            "Most common words in vocab:  ['', '[UNK]', 'the', 'to', 'and']\n",
            "Least Common words in vocab:  ['econo', 'eclipse', 'ear', 'dyson', 'dynamically']\n"
          ]
        }
      ]
    },
    {
      "cell_type": "markdown",
      "source": [
        "### Embedding\n",
        "`layers.Embedding`\n",
        "\n",
        "The parameters we care most about for our embedding layers:\n",
        "- `input_dim` : Size of the vocabulary\n",
        "- `output_dim` : Size of output embedding vector, for eg. a value of 100 would mean each token gets reprented by a vector 100 long\n",
        "- `input_lenght` : Length of the sequences being passed to the embedding layer"
      ],
      "metadata": {
        "id": "1DiJhaPCRYVv"
      }
    },
    {
      "cell_type": "code",
      "source": [
        "from tensorflow.keras.layers import Embedding"
      ],
      "metadata": {
        "id": "6jaxMuRzSJt3"
      },
      "execution_count": 30,
      "outputs": []
    },
    {
      "cell_type": "code",
      "source": [
        "embedding = Embedding(input_dim=max_vocab_lenght,\n",
        "                      output_dim=128,\n",
        "                      input_length=max_length)"
      ],
      "metadata": {
        "id": "xvlcAd8ES33m"
      },
      "execution_count": 31,
      "outputs": []
    },
    {
      "cell_type": "code",
      "source": [
        "# test embedding on random text\n",
        "import random\n",
        "random_text = random.choice(X_train)\n",
        "text_embedding = embedding(text_vectorizer([random_text]))\n",
        "text_embedding"
      ],
      "metadata": {
        "colab": {
          "base_uri": "https://localhost:8080/"
        },
        "id": "uXc0dc5bTYAu",
        "outputId": "d968cb04-0595-4479-e630-fb7cd546a6b7"
      },
      "execution_count": 32,
      "outputs": [
        {
          "output_type": "execute_result",
          "data": {
            "text/plain": [
              "<tf.Tensor: shape=(1, 327, 128), dtype=float32, numpy=\n",
              "array([[[-0.03005164,  0.04770924,  0.02590152, ..., -0.01201184,\n",
              "          0.00210582,  0.00180493],\n",
              "        [-0.00838761, -0.01543368,  0.04173224, ...,  0.02217383,\n",
              "          0.02284542, -0.04787673],\n",
              "        [ 0.04698476,  0.03099606,  0.02447108, ..., -0.04160286,\n",
              "          0.03933034, -0.02114377],\n",
              "        ...,\n",
              "        [-0.02509714,  0.01881899, -0.00349401, ..., -0.04255099,\n",
              "         -0.01037329, -0.00783447],\n",
              "        [-0.02509714,  0.01881899, -0.00349401, ..., -0.04255099,\n",
              "         -0.01037329, -0.00783447],\n",
              "        [-0.02509714,  0.01881899, -0.00349401, ..., -0.04255099,\n",
              "         -0.01037329, -0.00783447]]], dtype=float32)>"
            ]
          },
          "metadata": {},
          "execution_count": 32
        }
      ]
    },
    {
      "cell_type": "code",
      "source": [
        "# check out single token embedding\n",
        "text_embedding[0][0], text_embedding[0][0].shape"
      ],
      "metadata": {
        "colab": {
          "base_uri": "https://localhost:8080/"
        },
        "id": "HpPEkv3zTq23",
        "outputId": "791c5951-acbf-4d4e-f359-9397fe8c3aec"
      },
      "execution_count": 33,
      "outputs": [
        {
          "output_type": "execute_result",
          "data": {
            "text/plain": [
              "(<tf.Tensor: shape=(128,), dtype=float32, numpy=\n",
              " array([-3.0051637e-02,  4.7709238e-02,  2.5901522e-02, -3.3922099e-02,\n",
              "         4.6210993e-02,  4.5136038e-02,  3.7019502e-02,  1.0693453e-02,\n",
              "         4.8716273e-02, -3.7619583e-03,  1.9894291e-02, -1.5994739e-02,\n",
              "         2.4111997e-02, -1.3978075e-02, -4.2276468e-02,  3.7782677e-03,\n",
              "         9.6298456e-03, -3.3815049e-02, -4.5039404e-02,  5.5592433e-03,\n",
              "        -4.3193366e-02, -2.5043631e-02, -4.9005177e-02, -9.2481449e-04,\n",
              "         1.0898195e-02,  2.9678915e-02, -3.8218498e-03, -3.6612809e-02,\n",
              "         4.2089473e-02,  3.7058603e-02, -3.1133508e-02,  1.7489541e-02,\n",
              "         4.0275421e-02,  4.7554795e-02, -1.6936827e-02,  4.8308264e-02,\n",
              "         3.9833274e-02, -4.1149508e-02, -2.6945759e-02, -7.6373331e-03,\n",
              "        -4.5565844e-02, -3.1988300e-02,  1.7927181e-02, -1.1086334e-02,\n",
              "         3.1473193e-02,  2.8031468e-03,  2.4787076e-03,  1.3105083e-02,\n",
              "         3.5075657e-03, -1.9650090e-02,  3.4990337e-02, -3.2358885e-02,\n",
              "        -1.2297533e-02,  3.4057263e-02, -4.0977407e-02,  3.1402707e-03,\n",
              "        -2.4794472e-02,  1.8078182e-02, -3.2254387e-02, -8.4596872e-04,\n",
              "         3.0786429e-02, -3.3982623e-02, -7.1633607e-05,  3.6718223e-02,\n",
              "         3.5213444e-02,  4.6914313e-02,  1.5284929e-02,  2.5636438e-02,\n",
              "         3.6358122e-02,  1.9587506e-02,  1.8078174e-02,  9.3028694e-04,\n",
              "        -2.9541302e-02,  3.9411675e-02, -4.8392057e-02, -4.7544353e-03,\n",
              "         9.1833584e-03, -4.4019938e-02,  3.1782877e-02,  4.8472259e-02,\n",
              "        -7.6171756e-03,  1.4267657e-02, -2.7455736e-02,  4.7386896e-02,\n",
              "         1.1909507e-02, -6.6305324e-04, -1.9397497e-02, -2.0196056e-02,\n",
              "         2.9513407e-02, -2.5604255e-03, -4.8569608e-02,  4.0053163e-02,\n",
              "        -1.4731623e-02,  9.7066872e-03, -4.0527809e-02, -5.7849176e-03,\n",
              "         4.5004640e-02,  2.8444301e-02,  4.7011245e-02, -2.4047256e-02,\n",
              "        -1.9900834e-02, -1.1765264e-02, -1.8016864e-02,  2.1973256e-02,\n",
              "         3.6592793e-02,  5.3563602e-03, -5.3430200e-03, -3.8178541e-02,\n",
              "        -9.7047575e-03, -2.8357411e-02,  2.5596630e-02,  7.7439919e-03,\n",
              "         8.1467256e-03, -3.3777140e-02, -3.5259567e-02,  4.8134472e-02,\n",
              "         7.0211999e-03, -4.2247869e-02, -4.2149089e-02, -1.9308461e-02,\n",
              "         4.0239226e-02,  1.7225418e-02, -4.0923309e-02,  3.8938038e-03,\n",
              "        -1.2341119e-02, -1.2011837e-02,  2.1058209e-03,  1.8049255e-03],\n",
              "       dtype=float32)>, TensorShape([128]))"
            ]
          },
          "metadata": {},
          "execution_count": 33
        }
      ]
    },
    {
      "cell_type": "markdown",
      "source": [
        "## Creating Evaluation Function of our model experiments"
      ],
      "metadata": {
        "id": "O9gSbtcXZbXd"
      }
    },
    {
      "cell_type": "code",
      "source": [
        "from sklearn.metrics import precision_recall_fscore_support, accuracy_score"
      ],
      "metadata": {
        "id": "5uH_pa9gZmmX"
      },
      "execution_count": 34,
      "outputs": []
    },
    {
      "cell_type": "code",
      "source": [
        "def calculate_results(y_true, y_pred):\n",
        "  # calculate model precision, recall and f1-score using \"weighted\" average\n",
        "  model_precision, model_recall, model_f1_score, _ = precision_recall_fscore_support(y_true, y_pred, average=\"weighted\")\n",
        "  model_accuracy = accuracy_score(y_true, y_pred) \n",
        "  model_results = {\"accuracy\":model_accuracy,\n",
        "                   \"precision\":model_precision,\n",
        "                   \"recall\":model_recall,\n",
        "                   \"f1\":model_f1_score}\n",
        "  return model_results"
      ],
      "metadata": {
        "id": "eTo23EyOaDMl"
      },
      "execution_count": 98,
      "outputs": []
    },
    {
      "cell_type": "markdown",
      "source": [
        "## Running Series of Experiments"
      ],
      "metadata": {
        "id": "ww7sCeMDU-gw"
      }
    },
    {
      "cell_type": "markdown",
      "source": [
        "### Model 0 : Naive Bayes (Baseline)"
      ],
      "metadata": {
        "id": "eHK_q0wOVaDW"
      }
    },
    {
      "cell_type": "code",
      "source": [
        "from sklearn.feature_extraction.text import TfidfVectorizer\n",
        "from sklearn.naive_bayes import MultinomialNB\n",
        "from sklearn.pipeline import Pipeline"
      ],
      "metadata": {
        "id": "g_ZRjcBWVjre"
      },
      "execution_count": 99,
      "outputs": []
    },
    {
      "cell_type": "code",
      "source": [
        "# create tokenization and modeling pipeline\n",
        "model_0 = Pipeline([\n",
        "    ('tfidf', TfidfVectorizer()),\n",
        "    ('clf', MultinomialNB())\n",
        "])\n",
        "\n",
        "# fit a model\n",
        "model_0.fit(X_train, y_train)"
      ],
      "metadata": {
        "colab": {
          "base_uri": "https://localhost:8080/",
          "height": 125
        },
        "id": "tJ_CwSv4Wy2I",
        "outputId": "eb0dc03c-fd6f-458e-b9b4-a879e8d9352e"
      },
      "execution_count": 100,
      "outputs": [
        {
          "output_type": "execute_result",
          "data": {
            "text/plain": [
              "Pipeline(steps=[('tfidf', TfidfVectorizer()), ('clf', MultinomialNB())])"
            ],
            "text/html": [
              "<style>#sk-container-id-2 {color: black;background-color: white;}#sk-container-id-2 pre{padding: 0;}#sk-container-id-2 div.sk-toggleable {background-color: white;}#sk-container-id-2 label.sk-toggleable__label {cursor: pointer;display: block;width: 100%;margin-bottom: 0;padding: 0.3em;box-sizing: border-box;text-align: center;}#sk-container-id-2 label.sk-toggleable__label-arrow:before {content: \"▸\";float: left;margin-right: 0.25em;color: #696969;}#sk-container-id-2 label.sk-toggleable__label-arrow:hover:before {color: black;}#sk-container-id-2 div.sk-estimator:hover label.sk-toggleable__label-arrow:before {color: black;}#sk-container-id-2 div.sk-toggleable__content {max-height: 0;max-width: 0;overflow: hidden;text-align: left;background-color: #f0f8ff;}#sk-container-id-2 div.sk-toggleable__content pre {margin: 0.2em;color: black;border-radius: 0.25em;background-color: #f0f8ff;}#sk-container-id-2 input.sk-toggleable__control:checked~div.sk-toggleable__content {max-height: 200px;max-width: 100%;overflow: auto;}#sk-container-id-2 input.sk-toggleable__control:checked~label.sk-toggleable__label-arrow:before {content: \"▾\";}#sk-container-id-2 div.sk-estimator input.sk-toggleable__control:checked~label.sk-toggleable__label {background-color: #d4ebff;}#sk-container-id-2 div.sk-label input.sk-toggleable__control:checked~label.sk-toggleable__label {background-color: #d4ebff;}#sk-container-id-2 input.sk-hidden--visually {border: 0;clip: rect(1px 1px 1px 1px);clip: rect(1px, 1px, 1px, 1px);height: 1px;margin: -1px;overflow: hidden;padding: 0;position: absolute;width: 1px;}#sk-container-id-2 div.sk-estimator {font-family: monospace;background-color: #f0f8ff;border: 1px dotted black;border-radius: 0.25em;box-sizing: border-box;margin-bottom: 0.5em;}#sk-container-id-2 div.sk-estimator:hover {background-color: #d4ebff;}#sk-container-id-2 div.sk-parallel-item::after {content: \"\";width: 100%;border-bottom: 1px solid gray;flex-grow: 1;}#sk-container-id-2 div.sk-label:hover label.sk-toggleable__label {background-color: #d4ebff;}#sk-container-id-2 div.sk-serial::before {content: \"\";position: absolute;border-left: 1px solid gray;box-sizing: border-box;top: 0;bottom: 0;left: 50%;z-index: 0;}#sk-container-id-2 div.sk-serial {display: flex;flex-direction: column;align-items: center;background-color: white;padding-right: 0.2em;padding-left: 0.2em;position: relative;}#sk-container-id-2 div.sk-item {position: relative;z-index: 1;}#sk-container-id-2 div.sk-parallel {display: flex;align-items: stretch;justify-content: center;background-color: white;position: relative;}#sk-container-id-2 div.sk-item::before, #sk-container-id-2 div.sk-parallel-item::before {content: \"\";position: absolute;border-left: 1px solid gray;box-sizing: border-box;top: 0;bottom: 0;left: 50%;z-index: -1;}#sk-container-id-2 div.sk-parallel-item {display: flex;flex-direction: column;z-index: 1;position: relative;background-color: white;}#sk-container-id-2 div.sk-parallel-item:first-child::after {align-self: flex-end;width: 50%;}#sk-container-id-2 div.sk-parallel-item:last-child::after {align-self: flex-start;width: 50%;}#sk-container-id-2 div.sk-parallel-item:only-child::after {width: 0;}#sk-container-id-2 div.sk-dashed-wrapped {border: 1px dashed gray;margin: 0 0.4em 0.5em 0.4em;box-sizing: border-box;padding-bottom: 0.4em;background-color: white;}#sk-container-id-2 div.sk-label label {font-family: monospace;font-weight: bold;display: inline-block;line-height: 1.2em;}#sk-container-id-2 div.sk-label-container {text-align: center;}#sk-container-id-2 div.sk-container {/* jupyter's `normalize.less` sets `[hidden] { display: none; }` but bootstrap.min.css set `[hidden] { display: none !important; }` so we also need the `!important` here to be able to override the default hidden behavior on the sphinx rendered scikit-learn.org. See: https://github.com/scikit-learn/scikit-learn/issues/21755 */display: inline-block !important;position: relative;}#sk-container-id-2 div.sk-text-repr-fallback {display: none;}</style><div id=\"sk-container-id-2\" class=\"sk-top-container\"><div class=\"sk-text-repr-fallback\"><pre>Pipeline(steps=[(&#x27;tfidf&#x27;, TfidfVectorizer()), (&#x27;clf&#x27;, MultinomialNB())])</pre><b>In a Jupyter environment, please rerun this cell to show the HTML representation or trust the notebook. <br />On GitHub, the HTML representation is unable to render, please try loading this page with nbviewer.org.</b></div><div class=\"sk-container\" hidden><div class=\"sk-item sk-dashed-wrapped\"><div class=\"sk-label-container\"><div class=\"sk-label sk-toggleable\"><input class=\"sk-toggleable__control sk-hidden--visually\" id=\"sk-estimator-id-4\" type=\"checkbox\" ><label for=\"sk-estimator-id-4\" class=\"sk-toggleable__label sk-toggleable__label-arrow\">Pipeline</label><div class=\"sk-toggleable__content\"><pre>Pipeline(steps=[(&#x27;tfidf&#x27;, TfidfVectorizer()), (&#x27;clf&#x27;, MultinomialNB())])</pre></div></div></div><div class=\"sk-serial\"><div class=\"sk-item\"><div class=\"sk-estimator sk-toggleable\"><input class=\"sk-toggleable__control sk-hidden--visually\" id=\"sk-estimator-id-5\" type=\"checkbox\" ><label for=\"sk-estimator-id-5\" class=\"sk-toggleable__label sk-toggleable__label-arrow\">TfidfVectorizer</label><div class=\"sk-toggleable__content\"><pre>TfidfVectorizer()</pre></div></div></div><div class=\"sk-item\"><div class=\"sk-estimator sk-toggleable\"><input class=\"sk-toggleable__control sk-hidden--visually\" id=\"sk-estimator-id-6\" type=\"checkbox\" ><label for=\"sk-estimator-id-6\" class=\"sk-toggleable__label sk-toggleable__label-arrow\">MultinomialNB</label><div class=\"sk-toggleable__content\"><pre>MultinomialNB()</pre></div></div></div></div></div></div></div>"
            ]
          },
          "metadata": {},
          "execution_count": 100
        }
      ]
    },
    {
      "cell_type": "code",
      "source": [
        "baseline_score = model_0.score(X_test, y_test)\n",
        "print(f\"Our baseline model achive a accuracy {baseline_score*100:.2f}\")"
      ],
      "metadata": {
        "colab": {
          "base_uri": "https://localhost:8080/"
        },
        "id": "jjkEEFGOXdVi",
        "outputId": "2179ccd1-4fab-4934-b9b0-0bc04b8c8f22"
      },
      "execution_count": 101,
      "outputs": [
        {
          "output_type": "stream",
          "name": "stdout",
          "text": [
            "Our baseline model achive a accuracy 85.79\n"
          ]
        }
      ]
    },
    {
      "cell_type": "code",
      "source": [
        "baseline_preds = model_0.predict(X_test)\n",
        "baseline_preds[:10]"
      ],
      "metadata": {
        "colab": {
          "base_uri": "https://localhost:8080/"
        },
        "id": "cEoKa4P7Xzes",
        "outputId": "62794597-f6fd-480c-cca6-c7d34c7880f0"
      },
      "execution_count": 102,
      "outputs": [
        {
          "output_type": "execute_result",
          "data": {
            "text/plain": [
              "array([0, 0, 0, 0, 0, 0, 0, 0, 0, 0])"
            ]
          },
          "metadata": {},
          "execution_count": 102
        }
      ]
    },
    {
      "cell_type": "code",
      "source": [
        "y_test[:10]"
      ],
      "metadata": {
        "colab": {
          "base_uri": "https://localhost:8080/"
        },
        "id": "uH_11bQUYQO4",
        "outputId": "3562ad59-a0c1-4fd9-bcd7-4c6bf5bcb960"
      },
      "execution_count": 103,
      "outputs": [
        {
          "output_type": "execute_result",
          "data": {
            "text/plain": [
              "array([0, 1, 0, 0, 0, 1, 0, 0, 0, 0])"
            ]
          },
          "metadata": {},
          "execution_count": 103
        }
      ]
    },
    {
      "cell_type": "code",
      "source": [
        "baseline_result = calculate_results(y_test, baseline_preds)\n",
        "baseline_result"
      ],
      "metadata": {
        "colab": {
          "base_uri": "https://localhost:8080/"
        },
        "id": "HkxcaLDIYjh6",
        "outputId": "0ae45322-32a5-4b38-bab9-ec4a82ac61fa"
      },
      "execution_count": 104,
      "outputs": [
        {
          "output_type": "execute_result",
          "data": {
            "text/plain": [
              "{'accuracy': 0.8578947368421053,\n",
              " 'precision': 0.8810547495499311,\n",
              " 'recall': 0.8578947368421053,\n",
              " 'f1': 0.8388448382827941}"
            ]
          },
          "metadata": {},
          "execution_count": 104
        }
      ]
    },
    {
      "cell_type": "markdown",
      "source": [
        "### Model 1 : Simple Dense Layer"
      ],
      "metadata": {
        "id": "95rPZ9uqdzTR"
      }
    },
    {
      "cell_type": "code",
      "source": [
        "from tensorflow.keras import layers"
      ],
      "metadata": {
        "id": "mthhpE5DgcW-"
      },
      "execution_count": 105,
      "outputs": []
    },
    {
      "cell_type": "code",
      "source": [
        "from keras.api._v2.keras import activations\n",
        "inputs = layers.Input(shape=(1,), dtype=\"string\")\n",
        "x = text_vectorizer(inputs)\n",
        "x = embedding(x)\n",
        "x = layers.GlobalAveragePooling1D()(x)\n",
        "outputs = layers.Dense(1, activation=\"sigmoid\")(x)\n",
        "model_1 = tf.keras.Model(inputs, outputs, name=\"Model_1_dense\")"
      ],
      "metadata": {
        "id": "WhATZZ6efooq"
      },
      "execution_count": 106,
      "outputs": []
    },
    {
      "cell_type": "code",
      "source": [
        "# model summary\n",
        "model_1.summary()"
      ],
      "metadata": {
        "colab": {
          "base_uri": "https://localhost:8080/"
        },
        "id": "UDW1LGUIhAp-",
        "outputId": "147be844-2ece-4d4d-82e3-d281bcc254bf"
      },
      "execution_count": 107,
      "outputs": [
        {
          "output_type": "stream",
          "name": "stdout",
          "text": [
            "Model: \"Model_1_dense\"\n",
            "_________________________________________________________________\n",
            " Layer (type)                Output Shape              Param #   \n",
            "=================================================================\n",
            " input_10 (InputLayer)       [(None, 1)]               0         \n",
            "                                                                 \n",
            " text_vectorization (TextVec  (None, 327)              0         \n",
            " torization)                                                     \n",
            "                                                                 \n",
            " embedding (Embedding)       (None, 327, 128)          1280000   \n",
            "                                                                 \n",
            " global_average_pooling1d_4   (None, 128)              0         \n",
            " (GlobalAveragePooling1D)                                        \n",
            "                                                                 \n",
            " dense_7 (Dense)             (None, 1)                 129       \n",
            "                                                                 \n",
            "=================================================================\n",
            "Total params: 1,280,129\n",
            "Trainable params: 1,280,129\n",
            "Non-trainable params: 0\n",
            "_________________________________________________________________\n"
          ]
        }
      ]
    },
    {
      "cell_type": "code",
      "source": [
        "model_1.compile(loss=tf.keras.losses.BinaryCrossentropy(),\n",
        "                optimizer=tf.keras.optimizers.Adam(),\n",
        "                metrics=[\"accuracy\"])"
      ],
      "metadata": {
        "id": "uyI4cf8FhPM5"
      },
      "execution_count": 108,
      "outputs": []
    },
    {
      "cell_type": "code",
      "source": [
        "model_1_history = model_1.fit(X_train,\n",
        "                              y_train,\n",
        "                              epochs=5,\n",
        "                              validation_data=(X_test, y_test))"
      ],
      "metadata": {
        "colab": {
          "base_uri": "https://localhost:8080/"
        },
        "id": "lZFcL5AShtB7",
        "outputId": "21228669-fcfc-4ab6-fd3a-8835462ec954"
      },
      "execution_count": 109,
      "outputs": [
        {
          "output_type": "stream",
          "name": "stdout",
          "text": [
            "Epoch 1/5\n",
            "161/161 [==============================] - 5s 26ms/step - loss: 0.3975 - accuracy: 0.8211 - val_loss: 0.3152 - val_accuracy: 0.8439\n",
            "Epoch 2/5\n",
            "161/161 [==============================] - 5s 29ms/step - loss: 0.2263 - accuracy: 0.9366 - val_loss: 0.2146 - val_accuracy: 0.9404\n",
            "Epoch 3/5\n",
            "161/161 [==============================] - 4s 25ms/step - loss: 0.1533 - accuracy: 0.9813 - val_loss: 0.1602 - val_accuracy: 0.9754\n",
            "Epoch 4/5\n",
            "161/161 [==============================] - 4s 24ms/step - loss: 0.1128 - accuracy: 0.9891 - val_loss: 0.1300 - val_accuracy: 0.9842\n",
            "Epoch 5/5\n",
            "161/161 [==============================] - 5s 29ms/step - loss: 0.0885 - accuracy: 0.9920 - val_loss: 0.1085 - val_accuracy: 0.9807\n"
          ]
        }
      ]
    },
    {
      "cell_type": "code",
      "source": [
        "model_1.evaluate(X_test, y_test)"
      ],
      "metadata": {
        "colab": {
          "base_uri": "https://localhost:8080/"
        },
        "id": "ZCviFT0piL2w",
        "outputId": "ecffd445-8fb7-4590-bf96-e87a1d4e920b"
      },
      "execution_count": 110,
      "outputs": [
        {
          "output_type": "stream",
          "name": "stdout",
          "text": [
            "18/18 [==============================] - 0s 7ms/step - loss: 0.1085 - accuracy: 0.9807\n"
          ]
        },
        {
          "output_type": "execute_result",
          "data": {
            "text/plain": [
              "[0.1085357666015625, 0.980701744556427]"
            ]
          },
          "metadata": {},
          "execution_count": 110
        }
      ]
    },
    {
      "cell_type": "code",
      "source": [
        "model_1_preds_probs = model_1.predict(X_test)\n",
        "model_1_preds_probs[:10]"
      ],
      "metadata": {
        "colab": {
          "base_uri": "https://localhost:8080/"
        },
        "id": "WJpQ0JkDia8O",
        "outputId": "248a8322-b33f-47ae-bdf4-12bbdb0facbd"
      },
      "execution_count": 111,
      "outputs": [
        {
          "output_type": "stream",
          "name": "stdout",
          "text": [
            "18/18 [==============================] - 0s 7ms/step\n"
          ]
        },
        {
          "output_type": "execute_result",
          "data": {
            "text/plain": [
              "array([[7.4959576e-02],\n",
              "       [6.9763643e-01],\n",
              "       [5.5669665e-05],\n",
              "       [2.0466250e-01],\n",
              "       [3.1004011e-04],\n",
              "       [8.9552349e-01],\n",
              "       [7.3447148e-07],\n",
              "       [1.2183168e-06],\n",
              "       [2.7783250e-04],\n",
              "       [9.9867547e-04]], dtype=float32)"
            ]
          },
          "metadata": {},
          "execution_count": 111
        }
      ]
    },
    {
      "cell_type": "code",
      "source": [
        "model_1_preds = tf.squeeze(tf.round(model_1_preds_probs))\n",
        "model_1_preds[:10]"
      ],
      "metadata": {
        "colab": {
          "base_uri": "https://localhost:8080/"
        },
        "id": "MB5F52CHinc6",
        "outputId": "ac3ca77c-a707-477f-da78-df329e08387c"
      },
      "execution_count": 112,
      "outputs": [
        {
          "output_type": "execute_result",
          "data": {
            "text/plain": [
              "<tf.Tensor: shape=(10,), dtype=float32, numpy=array([0., 1., 0., 0., 0., 1., 0., 0., 0., 0.], dtype=float32)>"
            ]
          },
          "metadata": {},
          "execution_count": 112
        }
      ]
    },
    {
      "cell_type": "code",
      "source": [
        "model_1_results = calculate_results(y_test, model_1_preds)\n",
        "model_1_results"
      ],
      "metadata": {
        "colab": {
          "base_uri": "https://localhost:8080/"
        },
        "id": "WvrnlXq6jCl9",
        "outputId": "d34779f5-5d43-422c-bdf9-964dab642e83"
      },
      "execution_count": 113,
      "outputs": [
        {
          "output_type": "execute_result",
          "data": {
            "text/plain": [
              "{'accuracy': 0.980701754385965,\n",
              " 'precision': 0.9806502616369591,\n",
              " 'recall': 0.980701754385965,\n",
              " 'f1': 0.9806415124883967}"
            ]
          },
          "metadata": {},
          "execution_count": 113
        }
      ]
    },
    {
      "cell_type": "markdown",
      "source": [
        "## Recurrent Neural Network (RNN)"
      ],
      "metadata": {
        "id": "bSj7Y1E3z0B3"
      }
    },
    {
      "cell_type": "markdown",
      "source": [
        "### Model 2 : LSTM \n",
        "(Long Short Term Memory Networks)\n",
        "\n",
        "LSTMs are a type of Recurrent Neural Network (RNN) that can learn and memorize long-term dependencies.\n"
      ],
      "metadata": {
        "id": "c9wTluiMGfkM"
      }
    },
    {
      "cell_type": "code",
      "source": [
        "# create model 2 with LSTM\n",
        "inputs = layers.Input(shape=(1,), dtype=\"string\")\n",
        "x = text_vectorizer(inputs)\n",
        "x = embedding(x)\n",
        "x = layers.LSTM(64)(x)\n",
        "outputs = layers.Dense(1, activation=\"sigmoid\")(x)\n",
        "model_2 = tf.keras.Model(inputs, outputs, name=\"Model_2_LSTM\")"
      ],
      "metadata": {
        "id": "DyBimITxGkyo"
      },
      "execution_count": 114,
      "outputs": []
    },
    {
      "cell_type": "code",
      "source": [
        "model_2.summary()"
      ],
      "metadata": {
        "colab": {
          "base_uri": "https://localhost:8080/"
        },
        "id": "viL1svqYI3y_",
        "outputId": "57d6100f-c30e-4b40-e618-b7b8a6b14bf7"
      },
      "execution_count": 115,
      "outputs": [
        {
          "output_type": "stream",
          "name": "stdout",
          "text": [
            "Model: \"Model_2_LSTM\"\n",
            "_________________________________________________________________\n",
            " Layer (type)                Output Shape              Param #   \n",
            "=================================================================\n",
            " input_11 (InputLayer)       [(None, 1)]               0         \n",
            "                                                                 \n",
            " text_vectorization (TextVec  (None, 327)              0         \n",
            " torization)                                                     \n",
            "                                                                 \n",
            " embedding (Embedding)       (None, 327, 128)          1280000   \n",
            "                                                                 \n",
            " lstm_3 (LSTM)               (None, 64)                49408     \n",
            "                                                                 \n",
            " dense_8 (Dense)             (None, 1)                 65        \n",
            "                                                                 \n",
            "=================================================================\n",
            "Total params: 1,329,473\n",
            "Trainable params: 1,329,473\n",
            "Non-trainable params: 0\n",
            "_________________________________________________________________\n"
          ]
        }
      ]
    },
    {
      "cell_type": "code",
      "source": [
        "# compile model\n",
        "model_2.compile(loss=\"binary_crossentropy\",\n",
        "                optimizer=tf.keras.optimizers.Adam(),\n",
        "                metrics=[\"accuracy\"])"
      ],
      "metadata": {
        "id": "P6vq5qt7KRbu"
      },
      "execution_count": 116,
      "outputs": []
    },
    {
      "cell_type": "markdown",
      "source": [
        "After 2nd epochs accuracy stuck at 0.98 so we will fit model with 2epochs"
      ],
      "metadata": {
        "id": "UbS_NCWKNKvR"
      }
    },
    {
      "cell_type": "code",
      "source": [
        "# Fit a model\n",
        "model_2_history = model_2.fit(X_train,\n",
        "                              y_train,\n",
        "                              epochs=2,\n",
        "                              validation_data=(X_test, y_test)) "
      ],
      "metadata": {
        "colab": {
          "base_uri": "https://localhost:8080/"
        },
        "id": "B5jk_ScQK5gE",
        "outputId": "8434bca8-b6f5-4493-c4bf-22fc09534fe6"
      },
      "execution_count": 117,
      "outputs": [
        {
          "output_type": "stream",
          "name": "stdout",
          "text": [
            "Epoch 1/2\n",
            "161/161 [==============================] - 53s 312ms/step - loss: 0.2742 - accuracy: 0.8802 - val_loss: 0.1063 - val_accuracy: 0.9719\n",
            "Epoch 2/2\n",
            "161/161 [==============================] - 48s 298ms/step - loss: 0.1086 - accuracy: 0.9612 - val_loss: 0.1577 - val_accuracy: 0.9491\n"
          ]
        }
      ]
    },
    {
      "cell_type": "code",
      "source": [
        "# evaluate model\n",
        "model_2.evaluate(X_test, y_test)"
      ],
      "metadata": {
        "colab": {
          "base_uri": "https://localhost:8080/"
        },
        "id": "FQz0WLD2N-Bk",
        "outputId": "1e50914a-1b18-40f6-bb28-7eaa0437a55a"
      },
      "execution_count": 118,
      "outputs": [
        {
          "output_type": "stream",
          "name": "stdout",
          "text": [
            "18/18 [==============================] - 1s 66ms/step - loss: 0.1577 - accuracy: 0.9491\n"
          ]
        },
        {
          "output_type": "execute_result",
          "data": {
            "text/plain": [
              "[0.15773844718933105, 0.9491227865219116]"
            ]
          },
          "metadata": {},
          "execution_count": 118
        }
      ]
    },
    {
      "cell_type": "code",
      "source": [
        "model_2_preds_prob = model_2.predict(X_test)\n",
        "model_2_preds_prob[:10]"
      ],
      "metadata": {
        "colab": {
          "base_uri": "https://localhost:8080/"
        },
        "id": "lpQK7PB1LUpH",
        "outputId": "04788716-3660-40ef-8d1d-07da8de44e9d"
      },
      "execution_count": 119,
      "outputs": [
        {
          "output_type": "stream",
          "name": "stdout",
          "text": [
            "18/18 [==============================] - 3s 106ms/step\n"
          ]
        },
        {
          "output_type": "execute_result",
          "data": {
            "text/plain": [
              "array([[6.6767068e-04],\n",
              "       [7.5197810e-01],\n",
              "       [6.5962749e-04],\n",
              "       [7.5197816e-01],\n",
              "       [9.4167929e-04],\n",
              "       [7.5197810e-01],\n",
              "       [6.7981728e-04],\n",
              "       [6.6765485e-04],\n",
              "       [6.6765898e-04],\n",
              "       [6.6757842e-04]], dtype=float32)"
            ]
          },
          "metadata": {},
          "execution_count": 119
        }
      ]
    },
    {
      "cell_type": "code",
      "source": [
        "model_2_preds = tf.squeeze(tf.round(model_2_preds_prob))\n",
        "model_2_preds[:10]"
      ],
      "metadata": {
        "colab": {
          "base_uri": "https://localhost:8080/"
        },
        "id": "Wo4OlGDWNxzM",
        "outputId": "96553c01-80b2-47a9-ea2c-c92a2dc83dfc"
      },
      "execution_count": 120,
      "outputs": [
        {
          "output_type": "execute_result",
          "data": {
            "text/plain": [
              "<tf.Tensor: shape=(10,), dtype=float32, numpy=array([0., 1., 0., 1., 0., 1., 0., 0., 0., 0.], dtype=float32)>"
            ]
          },
          "metadata": {},
          "execution_count": 120
        }
      ]
    },
    {
      "cell_type": "code",
      "source": [
        "model_2_result = calculate_results(y_test, model_2_preds)\n",
        "model_2_result"
      ],
      "metadata": {
        "colab": {
          "base_uri": "https://localhost:8080/"
        },
        "id": "qjrWvtPmPqwm",
        "outputId": "205d1d67-033e-43e7-c68c-1d3ce24ff9c6"
      },
      "execution_count": 121,
      "outputs": [
        {
          "output_type": "execute_result",
          "data": {
            "text/plain": [
              "{'accuracy': 0.9491228070175438,\n",
              " 'precision': 0.9563287488416676,\n",
              " 'recall': 0.9491228070175438,\n",
              " 'f1': 0.9503198619520898}"
            ]
          },
          "metadata": {},
          "execution_count": 121
        }
      ]
    },
    {
      "cell_type": "markdown",
      "source": [
        "### model 3 : Bidirectional RNN\n",
        "\n",
        "> Indented block\n",
        "\n"
      ],
      "metadata": {
        "id": "eztozT_AP3bg"
      }
    },
    {
      "cell_type": "code",
      "source": [
        "# create model 3 with bidirectional layer\n",
        "inputs = layers.Input(shape=(1,), dtype=\"string\")\n",
        "x = text_vectorizer(inputs)\n",
        "x = embedding(x)\n",
        "x = layers.Bidirectional(layers.LSTM(32))(x)\n",
        "outputs = layers.Dense(1, activation=\"sigmoid\")(x)\n",
        "model_3 = tf.keras.Model(inputs, outputs, name=\"model_3_bidirectional\")"
      ],
      "metadata": {
        "id": "ULPNUWgrQKTH"
      },
      "execution_count": 122,
      "outputs": []
    },
    {
      "cell_type": "code",
      "source": [
        "model_3.summary()"
      ],
      "metadata": {
        "colab": {
          "base_uri": "https://localhost:8080/"
        },
        "id": "VHkEFVtyRPzQ",
        "outputId": "61a605e3-a844-4e81-9ba4-7380dc31feac"
      },
      "execution_count": 123,
      "outputs": [
        {
          "output_type": "stream",
          "name": "stdout",
          "text": [
            "Model: \"model_3_bidirectional\"\n",
            "_________________________________________________________________\n",
            " Layer (type)                Output Shape              Param #   \n",
            "=================================================================\n",
            " input_12 (InputLayer)       [(None, 1)]               0         \n",
            "                                                                 \n",
            " text_vectorization (TextVec  (None, 327)              0         \n",
            " torization)                                                     \n",
            "                                                                 \n",
            " embedding (Embedding)       (None, 327, 128)          1280000   \n",
            "                                                                 \n",
            " bidirectional_2 (Bidirectio  (None, 64)               41216     \n",
            " nal)                                                            \n",
            "                                                                 \n",
            " dense_9 (Dense)             (None, 1)                 65        \n",
            "                                                                 \n",
            "=================================================================\n",
            "Total params: 1,321,281\n",
            "Trainable params: 1,321,281\n",
            "Non-trainable params: 0\n",
            "_________________________________________________________________\n"
          ]
        }
      ]
    },
    {
      "cell_type": "code",
      "source": [
        "# compile model\n",
        "model_3.compile(loss=\"binary_crossentropy\",\n",
        "                optimizer=tf.keras.optimizers.Adam(),\n",
        "                metrics=[\"accuracy\"])"
      ],
      "metadata": {
        "id": "IqqOf1d1RTa-"
      },
      "execution_count": 124,
      "outputs": []
    },
    {
      "cell_type": "code",
      "source": [
        "model_3_history = model_3.fit(X_train,\n",
        "                              y_train,\n",
        "                              epochs=3,\n",
        "                              validation_data=(X_test, y_test))"
      ],
      "metadata": {
        "colab": {
          "base_uri": "https://localhost:8080/"
        },
        "id": "6PuL6xWxRXUX",
        "outputId": "74a7906d-fb06-44df-db15-7f26720d0f6a"
      },
      "execution_count": 125,
      "outputs": [
        {
          "output_type": "stream",
          "name": "stdout",
          "text": [
            "Epoch 1/3\n",
            "161/161 [==============================] - 72s 416ms/step - loss: 0.0922 - accuracy: 0.9776 - val_loss: 0.0343 - val_accuracy: 0.9895\n",
            "Epoch 2/3\n",
            "161/161 [==============================] - 63s 391ms/step - loss: 0.0114 - accuracy: 0.9980 - val_loss: 0.0609 - val_accuracy: 0.9825\n",
            "Epoch 3/3\n",
            "161/161 [==============================] - 65s 402ms/step - loss: 0.0100 - accuracy: 0.9967 - val_loss: 0.0335 - val_accuracy: 0.9877\n"
          ]
        }
      ]
    },
    {
      "cell_type": "code",
      "source": [
        "model_3_preds_prob = model_3.predict(X_test)\n",
        "model_3_preds_prob[:10]"
      ],
      "metadata": {
        "colab": {
          "base_uri": "https://localhost:8080/"
        },
        "id": "JP9e4m-lu_93",
        "outputId": "739480f2-c54c-4456-d900-3561c4fd7240"
      },
      "execution_count": 126,
      "outputs": [
        {
          "output_type": "stream",
          "name": "stdout",
          "text": [
            "18/18 [==============================] - 2s 71ms/step\n"
          ]
        },
        {
          "output_type": "execute_result",
          "data": {
            "text/plain": [
              "array([[2.0909234e-04],\n",
              "       [9.6393782e-01],\n",
              "       [3.1974301e-04],\n",
              "       [1.5846051e-02],\n",
              "       [3.8927811e-04],\n",
              "       [9.9614334e-01],\n",
              "       [2.9728992e-04],\n",
              "       [1.7855370e-04],\n",
              "       [2.0656011e-04],\n",
              "       [2.6546005e-04]], dtype=float32)"
            ]
          },
          "metadata": {},
          "execution_count": 126
        }
      ]
    },
    {
      "cell_type": "code",
      "source": [
        "model_3_preds = tf.squeeze(tf.round(model_3_preds_prob))\n",
        "model_3_preds[:10]"
      ],
      "metadata": {
        "colab": {
          "base_uri": "https://localhost:8080/"
        },
        "id": "yxBFt4TMvRt0",
        "outputId": "6baff106-9758-48f6-b315-0113e83c5fcf"
      },
      "execution_count": 127,
      "outputs": [
        {
          "output_type": "execute_result",
          "data": {
            "text/plain": [
              "<tf.Tensor: shape=(10,), dtype=float32, numpy=array([0., 1., 0., 0., 0., 1., 0., 0., 0., 0.], dtype=float32)>"
            ]
          },
          "metadata": {},
          "execution_count": 127
        }
      ]
    },
    {
      "cell_type": "code",
      "source": [
        "model_3_results = calculate_results(y_test, model_3_preds)\n",
        "model_3_results"
      ],
      "metadata": {
        "colab": {
          "base_uri": "https://localhost:8080/"
        },
        "id": "zxBjyVA6vgyB",
        "outputId": "d7944146-9902-4d90-f90e-7b384c94731a"
      },
      "execution_count": 128,
      "outputs": [
        {
          "output_type": "execute_result",
          "data": {
            "text/plain": [
              "{'accuracy': 0.987719298245614,\n",
              " 'precision': 0.9877518904139478,\n",
              " 'recall': 0.987719298245614,\n",
              " 'f1': 0.9877317808207386}"
            ]
          },
          "metadata": {},
          "execution_count": 128
        }
      ]
    },
    {
      "cell_type": "markdown",
      "source": [
        "🔑**Note** : We're getting accuracy early may be because our dataset is small"
      ],
      "metadata": {
        "id": "yffpjpVDSCty"
      }
    },
    {
      "cell_type": "markdown",
      "source": [
        "## Convolutional Neural Network (CNN)"
      ],
      "metadata": {
        "id": "ZjpUdj7uU0Wf"
      }
    },
    {
      "cell_type": "markdown",
      "source": [
        "### model 4 : Conv1D"
      ],
      "metadata": {
        "id": "wtn3elTgVJHk"
      }
    },
    {
      "cell_type": "code",
      "source": [
        "# create model with conv1D\n",
        "inputs = layers.Input(shape=(1,), dtype=\"string\")\n",
        "x = text_vectorizer(inputs)\n",
        "x = embedding(x)\n",
        "x = layers.Conv1D(filters=64,\n",
        "                  kernel_size=5, \n",
        "                  activation=\"relu\",\n",
        "                  padding=\"valid\")(x)\n",
        "x = layers.GlobalAveragePooling1D()(x)\n",
        "outputs = layers.Dense(1, activation=\"sigmoid\")(x)\n",
        "model_4 = tf.keras.Model(inputs, outputs, name=\"model_4_Conv1D\")\n",
        "\n",
        "# compile model\n",
        "model_4.compile(loss=\"binary_crossentropy\",\n",
        "                optimizer=tf.keras.optimizers.Adam(),\n",
        "                metrics=[\"accuracy\"])"
      ],
      "metadata": {
        "id": "sfDDtzk1VQFi"
      },
      "execution_count": 129,
      "outputs": []
    },
    {
      "cell_type": "code",
      "source": [
        "model_4.summary()"
      ],
      "metadata": {
        "colab": {
          "base_uri": "https://localhost:8080/"
        },
        "id": "N4tGAp4QYPAG",
        "outputId": "0533759f-0560-4df9-86f9-13ad63f8cc6d"
      },
      "execution_count": 130,
      "outputs": [
        {
          "output_type": "stream",
          "name": "stdout",
          "text": [
            "Model: \"model_4_Conv1D\"\n",
            "_________________________________________________________________\n",
            " Layer (type)                Output Shape              Param #   \n",
            "=================================================================\n",
            " input_13 (InputLayer)       [(None, 1)]               0         \n",
            "                                                                 \n",
            " text_vectorization (TextVec  (None, 327)              0         \n",
            " torization)                                                     \n",
            "                                                                 \n",
            " embedding (Embedding)       (None, 327, 128)          1280000   \n",
            "                                                                 \n",
            " conv1d_4 (Conv1D)           (None, 323, 64)           41024     \n",
            "                                                                 \n",
            " global_average_pooling1d_5   (None, 64)               0         \n",
            " (GlobalAveragePooling1D)                                        \n",
            "                                                                 \n",
            " dense_10 (Dense)            (None, 1)                 65        \n",
            "                                                                 \n",
            "=================================================================\n",
            "Total params: 1,321,089\n",
            "Trainable params: 1,321,089\n",
            "Non-trainable params: 0\n",
            "_________________________________________________________________\n"
          ]
        }
      ]
    },
    {
      "cell_type": "code",
      "source": [
        "# Fit model\n",
        "model_4_history = model_4.fit(X_train,\n",
        "                              y_train,\n",
        "                              epochs=3,\n",
        "                              validation_data=(X_test, y_test))"
      ],
      "metadata": {
        "colab": {
          "base_uri": "https://localhost:8080/"
        },
        "id": "wIlc679eXahQ",
        "outputId": "d618934c-d0b9-40c7-f6ad-a5c2e8fa7345"
      },
      "execution_count": 131,
      "outputs": [
        {
          "output_type": "stream",
          "name": "stdout",
          "text": [
            "Epoch 1/3\n",
            "161/161 [==============================] - 18s 107ms/step - loss: 0.0645 - accuracy: 0.9912 - val_loss: 0.0480 - val_accuracy: 0.9842\n",
            "Epoch 2/3\n",
            "161/161 [==============================] - 19s 117ms/step - loss: 0.0138 - accuracy: 0.9986 - val_loss: 0.0460 - val_accuracy: 0.9877\n",
            "Epoch 3/3\n",
            "161/161 [==============================] - 17s 105ms/step - loss: 0.0084 - accuracy: 0.9990 - val_loss: 0.0481 - val_accuracy: 0.9877\n"
          ]
        }
      ]
    },
    {
      "cell_type": "code",
      "source": [
        "# evaluate model\n",
        "model_4.evaluate(X_test, y_test)"
      ],
      "metadata": {
        "colab": {
          "base_uri": "https://localhost:8080/"
        },
        "id": "VeWPSh1GYKYW",
        "outputId": "49d279fb-582b-4626-f7e2-463ceba64176"
      },
      "execution_count": 132,
      "outputs": [
        {
          "output_type": "stream",
          "name": "stdout",
          "text": [
            "18/18 [==============================] - 0s 23ms/step - loss: 0.0481 - accuracy: 0.9877\n"
          ]
        },
        {
          "output_type": "execute_result",
          "data": {
            "text/plain": [
              "[0.0480629988014698, 0.9877192974090576]"
            ]
          },
          "metadata": {},
          "execution_count": 132
        }
      ]
    },
    {
      "cell_type": "code",
      "source": [
        "model_4_preds_probs = model_4.predict(X_test)\n",
        "model_4_preds_probs[:10]"
      ],
      "metadata": {
        "colab": {
          "base_uri": "https://localhost:8080/"
        },
        "id": "yx5oUuC8ZTOP",
        "outputId": "0182d92a-c74d-4db7-916e-50e8e11d7533"
      },
      "execution_count": 133,
      "outputs": [
        {
          "output_type": "stream",
          "name": "stdout",
          "text": [
            "18/18 [==============================] - 1s 39ms/step\n"
          ]
        },
        {
          "output_type": "execute_result",
          "data": {
            "text/plain": [
              "array([[1.75606419e-05],\n",
              "       [9.96123016e-01],\n",
              "       [4.12850418e-23],\n",
              "       [3.47460620e-03],\n",
              "       [1.25770833e-20],\n",
              "       [9.99989271e-01],\n",
              "       [1.08877666e-33],\n",
              "       [1.53525219e-32],\n",
              "       [1.74118055e-19],\n",
              "       [1.10162035e-16]], dtype=float32)"
            ]
          },
          "metadata": {},
          "execution_count": 133
        }
      ]
    },
    {
      "cell_type": "code",
      "source": [
        "model_4_preds = tf.squeeze(tf.round(model_4_preds_probs))\n",
        "model_4_preds[:10]"
      ],
      "metadata": {
        "colab": {
          "base_uri": "https://localhost:8080/"
        },
        "id": "1Qq1hQjOZf7a",
        "outputId": "81e12e82-3828-4a2a-fd5f-526a7a78b33b"
      },
      "execution_count": 134,
      "outputs": [
        {
          "output_type": "execute_result",
          "data": {
            "text/plain": [
              "<tf.Tensor: shape=(10,), dtype=float32, numpy=array([0., 1., 0., 0., 0., 1., 0., 0., 0., 0.], dtype=float32)>"
            ]
          },
          "metadata": {},
          "execution_count": 134
        }
      ]
    },
    {
      "cell_type": "code",
      "source": [
        "model_4_results = calculate_results(y_test, model_4_preds)\n",
        "model_4_results"
      ],
      "metadata": {
        "colab": {
          "base_uri": "https://localhost:8080/"
        },
        "id": "Wva5jSihZsW1",
        "outputId": "f986fff8-d915-452a-8782-28c4e6749f6b"
      },
      "execution_count": 135,
      "outputs": [
        {
          "output_type": "execute_result",
          "data": {
            "text/plain": [
              "{'accuracy': 0.987719298245614,\n",
              " 'precision': 0.987785441860322,\n",
              " 'recall': 0.987719298245614,\n",
              " 'f1': 0.9876546530336867}"
            ]
          },
          "metadata": {},
          "execution_count": 135
        }
      ]
    },
    {
      "cell_type": "markdown",
      "source": [
        "## Comparing Results of Each model"
      ],
      "metadata": {
        "id": "Gy4WLKQ9Y2Cp"
      }
    },
    {
      "cell_type": "code",
      "source": [
        "all_model_results = pd.DataFrame({\"Naive_Bayes\":baseline_result,\n",
        "                                  \"Simple_Dense_layer\":model_1_results,\n",
        "                                  \"LSTM\":model_2_result,\n",
        "                                  \"Bidirectional\":model_3_results,\n",
        "                                  \"Conv1D\":model_4_results})\n",
        "all_model_results = all_model_results.T\n",
        "all_model_results"
      ],
      "metadata": {
        "colab": {
          "base_uri": "https://localhost:8080/",
          "height": 206
        },
        "id": "inpZ7JCNZE0J",
        "outputId": "3f6cf79d-2a16-46c8-c9c1-2f7cc460b6ed"
      },
      "execution_count": 144,
      "outputs": [
        {
          "output_type": "execute_result",
          "data": {
            "text/plain": [
              "                    accuracy  precision    recall        f1\n",
              "Naive_Bayes         0.857895   0.881055  0.857895  0.838845\n",
              "Simple_Dense_layer  0.980702   0.980650  0.980702  0.980642\n",
              "LSTM                0.949123   0.956329  0.949123  0.950320\n",
              "Bidirectional       0.987719   0.987752  0.987719  0.987732\n",
              "Conv1D              0.987719   0.987785  0.987719  0.987655"
            ],
            "text/html": [
              "\n",
              "  <div id=\"df-b5d00f66-1439-48cb-b741-49d4430d4f18\">\n",
              "    <div class=\"colab-df-container\">\n",
              "      <div>\n",
              "<style scoped>\n",
              "    .dataframe tbody tr th:only-of-type {\n",
              "        vertical-align: middle;\n",
              "    }\n",
              "\n",
              "    .dataframe tbody tr th {\n",
              "        vertical-align: top;\n",
              "    }\n",
              "\n",
              "    .dataframe thead th {\n",
              "        text-align: right;\n",
              "    }\n",
              "</style>\n",
              "<table border=\"1\" class=\"dataframe\">\n",
              "  <thead>\n",
              "    <tr style=\"text-align: right;\">\n",
              "      <th></th>\n",
              "      <th>accuracy</th>\n",
              "      <th>precision</th>\n",
              "      <th>recall</th>\n",
              "      <th>f1</th>\n",
              "    </tr>\n",
              "  </thead>\n",
              "  <tbody>\n",
              "    <tr>\n",
              "      <th>Naive_Bayes</th>\n",
              "      <td>0.857895</td>\n",
              "      <td>0.881055</td>\n",
              "      <td>0.857895</td>\n",
              "      <td>0.838845</td>\n",
              "    </tr>\n",
              "    <tr>\n",
              "      <th>Simple_Dense_layer</th>\n",
              "      <td>0.980702</td>\n",
              "      <td>0.980650</td>\n",
              "      <td>0.980702</td>\n",
              "      <td>0.980642</td>\n",
              "    </tr>\n",
              "    <tr>\n",
              "      <th>LSTM</th>\n",
              "      <td>0.949123</td>\n",
              "      <td>0.956329</td>\n",
              "      <td>0.949123</td>\n",
              "      <td>0.950320</td>\n",
              "    </tr>\n",
              "    <tr>\n",
              "      <th>Bidirectional</th>\n",
              "      <td>0.987719</td>\n",
              "      <td>0.987752</td>\n",
              "      <td>0.987719</td>\n",
              "      <td>0.987732</td>\n",
              "    </tr>\n",
              "    <tr>\n",
              "      <th>Conv1D</th>\n",
              "      <td>0.987719</td>\n",
              "      <td>0.987785</td>\n",
              "      <td>0.987719</td>\n",
              "      <td>0.987655</td>\n",
              "    </tr>\n",
              "  </tbody>\n",
              "</table>\n",
              "</div>\n",
              "      <button class=\"colab-df-convert\" onclick=\"convertToInteractive('df-b5d00f66-1439-48cb-b741-49d4430d4f18')\"\n",
              "              title=\"Convert this dataframe to an interactive table.\"\n",
              "              style=\"display:none;\">\n",
              "        \n",
              "  <svg xmlns=\"http://www.w3.org/2000/svg\" height=\"24px\"viewBox=\"0 0 24 24\"\n",
              "       width=\"24px\">\n",
              "    <path d=\"M0 0h24v24H0V0z\" fill=\"none\"/>\n",
              "    <path d=\"M18.56 5.44l.94 2.06.94-2.06 2.06-.94-2.06-.94-.94-2.06-.94 2.06-2.06.94zm-11 1L8.5 8.5l.94-2.06 2.06-.94-2.06-.94L8.5 2.5l-.94 2.06-2.06.94zm10 10l.94 2.06.94-2.06 2.06-.94-2.06-.94-.94-2.06-.94 2.06-2.06.94z\"/><path d=\"M17.41 7.96l-1.37-1.37c-.4-.4-.92-.59-1.43-.59-.52 0-1.04.2-1.43.59L10.3 9.45l-7.72 7.72c-.78.78-.78 2.05 0 2.83L4 21.41c.39.39.9.59 1.41.59.51 0 1.02-.2 1.41-.59l7.78-7.78 2.81-2.81c.8-.78.8-2.07 0-2.86zM5.41 20L4 18.59l7.72-7.72 1.47 1.35L5.41 20z\"/>\n",
              "  </svg>\n",
              "      </button>\n",
              "      \n",
              "  <style>\n",
              "    .colab-df-container {\n",
              "      display:flex;\n",
              "      flex-wrap:wrap;\n",
              "      gap: 12px;\n",
              "    }\n",
              "\n",
              "    .colab-df-convert {\n",
              "      background-color: #E8F0FE;\n",
              "      border: none;\n",
              "      border-radius: 50%;\n",
              "      cursor: pointer;\n",
              "      display: none;\n",
              "      fill: #1967D2;\n",
              "      height: 32px;\n",
              "      padding: 0 0 0 0;\n",
              "      width: 32px;\n",
              "    }\n",
              "\n",
              "    .colab-df-convert:hover {\n",
              "      background-color: #E2EBFA;\n",
              "      box-shadow: 0px 1px 2px rgba(60, 64, 67, 0.3), 0px 1px 3px 1px rgba(60, 64, 67, 0.15);\n",
              "      fill: #174EA6;\n",
              "    }\n",
              "\n",
              "    [theme=dark] .colab-df-convert {\n",
              "      background-color: #3B4455;\n",
              "      fill: #D2E3FC;\n",
              "    }\n",
              "\n",
              "    [theme=dark] .colab-df-convert:hover {\n",
              "      background-color: #434B5C;\n",
              "      box-shadow: 0px 1px 3px 1px rgba(0, 0, 0, 0.15);\n",
              "      filter: drop-shadow(0px 1px 2px rgba(0, 0, 0, 0.3));\n",
              "      fill: #FFFFFF;\n",
              "    }\n",
              "  </style>\n",
              "\n",
              "      <script>\n",
              "        const buttonEl =\n",
              "          document.querySelector('#df-b5d00f66-1439-48cb-b741-49d4430d4f18 button.colab-df-convert');\n",
              "        buttonEl.style.display =\n",
              "          google.colab.kernel.accessAllowed ? 'block' : 'none';\n",
              "\n",
              "        async function convertToInteractive(key) {\n",
              "          const element = document.querySelector('#df-b5d00f66-1439-48cb-b741-49d4430d4f18');\n",
              "          const dataTable =\n",
              "            await google.colab.kernel.invokeFunction('convertToInteractive',\n",
              "                                                     [key], {});\n",
              "          if (!dataTable) return;\n",
              "\n",
              "          const docLinkHtml = 'Like what you see? Visit the ' +\n",
              "            '<a target=\"_blank\" href=https://colab.research.google.com/notebooks/data_table.ipynb>data table notebook</a>'\n",
              "            + ' to learn more about interactive tables.';\n",
              "          element.innerHTML = '';\n",
              "          dataTable['output_type'] = 'display_data';\n",
              "          await google.colab.output.renderOutput(dataTable, element);\n",
              "          const docLink = document.createElement('div');\n",
              "          docLink.innerHTML = docLinkHtml;\n",
              "          element.appendChild(docLink);\n",
              "        }\n",
              "      </script>\n",
              "    </div>\n",
              "  </div>\n",
              "  "
            ]
          },
          "metadata": {},
          "execution_count": 144
        }
      ]
    },
    {
      "cell_type": "code",
      "source": [
        "# plot all results and comapre them\n",
        "all_model_results.plot(kind=\"bar\", figsize=(10, 7)).legend(bbox_to_anchor=(1.0, 1.0))"
      ],
      "metadata": {
        "colab": {
          "base_uri": "https://localhost:8080/",
          "height": 536
        },
        "id": "bpWExYTywl2D",
        "outputId": "7ef35701-a560-46d0-bddf-69838310c8ef"
      },
      "execution_count": 145,
      "outputs": [
        {
          "output_type": "execute_result",
          "data": {
            "text/plain": [
              "<matplotlib.legend.Legend at 0x7f165841d910>"
            ]
          },
          "metadata": {},
          "execution_count": 145
        },
        {
          "output_type": "display_data",
          "data": {
            "text/plain": [
              "<Figure size 720x504 with 1 Axes>"
            ],
            "image/png": "[encoded data removed]"
          },
          "metadata": {
            "needs_background": "light"
          }
        }
      ]
    },
    {
      "cell_type": "code",
      "source": [
        "# sort model by f1 score\n",
        "all_model_results.sort_values('f1', ascending=False)[\"f1\"].plot(kind='bar', figsize=(10, 7))"
      ],
      "metadata": {
        "colab": {
          "base_uri": "https://localhost:8080/",
          "height": 536
        },
        "id": "MfGllEqiy_Hm",
        "outputId": "255db9da-88c6-40b3-850a-24019177fc00"
      },
      "execution_count": 146,
      "outputs": [
        {
          "output_type": "execute_result",
          "data": {
            "text/plain": [
              "<Axes: >"
            ]
          },
          "metadata": {},
          "execution_count": 146
        },
        {
          "output_type": "display_data",
          "data": {
            "text/plain": [
              "<Figure size 720x504 with 1 Axes>"
            ],
            "image/png": "[encoded data removed]"
          },
          "metadata": {
            "needs_background": "light"
          }
        }
      ]
    },
    {
      "cell_type": "markdown",
      "source": [
        "⭐So Now we can conclude that model_2 (LSTM) and model_3 (Bidirectional) Model perform well."
      ],
      "metadata": {
        "id": "VAdJZRNQ0F6d"
      }
    },
    {
      "cell_type": "code",
      "source": [],
      "metadata": {
        "id": "ZSdtFlb600z2"
      },
      "execution_count": 146,
      "outputs": []
    }
  ]
}